{
  "nbformat": 4,
  "nbformat_minor": 0,
  "metadata": {
    "colab": {
      "name": "Moringa_Data_Science_Core_WEEK_6_Independent_Project_2021_10_Angela_Nyutu_Python_Notebook.ipynb",
      "provenance": [],
      "collapsed_sections": [
        "kLG2VTrnTvYL"
      ],
      "toc_visible": true,
      "authorship_tag": "ABX9TyPP2qZ5WLxVxexBRMdMVY1r",
      "include_colab_link": true
    },
    "kernelspec": {
      "name": "python3",
      "display_name": "Python 3"
    },
    "language_info": {
      "name": "python"
    }
  },
  "cells": [
    {
      "cell_type": "markdown",
      "metadata": {
        "id": "view-in-github",
        "colab_type": "text"
      },
      "source": [
        "<a href=\"https://colab.research.google.com/github/ANGELA-NYUTU/Regressions/blob/main/Moringa_Data_Science_Core_WEEK_6_Independent_Project_2021_10_Angela_Nyutu_Python_Notebook.ipynb\" target=\"_parent\"><img src=\"https://colab.research.google.com/assets/colab-badge.svg\" alt=\"Open In Colab\"/></a>"
      ]
    },
    {
      "cell_type": "markdown",
      "metadata": {
        "id": "xPFQe359wovx"
      },
      "source": [
        "# **DATA ANALYSIS AND GAME OUTCOME PREDICTIONS FOR MCHEZOPESA LIMITED**"
      ]
    },
    {
      "cell_type": "markdown",
      "metadata": {
        "id": "kLG2VTrnTvYL"
      },
      "source": [
        "## **1. Defining the Question**"
      ]
    },
    {
      "cell_type": "markdown",
      "metadata": {
        "id": "XecOwPNorl2W"
      },
      "source": [
        "### **a) Specifying the Question**"
      ]
    },
    {
      "cell_type": "markdown",
      "metadata": {
        "id": "8l3-hBO6bODP"
      },
      "source": [
        "Make a prediction result of a game between team 1 and team 2, based on who's home and who's away, and on whether or not the game is friendly and include rank in your training."
      ]
    },
    {
      "cell_type": "markdown",
      "metadata": {
        "id": "J4wfHZwQrs-t"
      },
      "source": [
        "### **b) Defining the Metric for Success**"
      ]
    },
    {
      "cell_type": "markdown",
      "metadata": {
        "id": "Jn3Dlrpk0wQi"
      },
      "source": [
        "The model should at least have the ability to predict at least 85% correctly"
      ]
    },
    {
      "cell_type": "markdown",
      "metadata": {
        "id": "a9BPYqunry97"
      },
      "source": [
        "### **c) Understanding the context**"
      ]
    },
    {
      "cell_type": "markdown",
      "metadata": {
        "id": "jQ4GoXr3Wh59"
      },
      "source": [
        "The men's FIFA World Ranking is a ranking system for men's national teams in association football.The rankings are used by FIFA to rank the progression and current ability of the national football teams of its member nations.In this analysis, two datasets have been provide, one in country team ranking from 1993-2018and the other on game scores over a period of more than 30 years"
      ]
    },
    {
      "cell_type": "markdown",
      "metadata": {
        "id": "7KMRBJ7zr9HD"
      },
      "source": [
        "### **d) Recording the Experimental Design**"
      ]
    },
    {
      "cell_type": "markdown",
      "metadata": {
        "id": "ZMOClQ1NYrMv"
      },
      "source": [
        "The design is as follows:\n",
        "\n",
        "1.Datasets loading and cleaning\n",
        "\n",
        "2.Exploratory Data Analysis \n",
        "\n",
        "3. Modelling -polynominal regression \n",
        "             -logistical regression\n",
        "4. Interpretation"
      ]
    },
    {
      "cell_type": "markdown",
      "metadata": {
        "id": "iUNbvIvnT7ep"
      },
      "source": [
        "## **2. Reading the Data**"
      ]
    },
    {
      "cell_type": "markdown",
      "metadata": {
        "id": "XSrcJ6MIXPYQ"
      },
      "source": [
        "**Importing Essential Libraries**"
      ]
    },
    {
      "cell_type": "code",
      "metadata": {
        "id": "bbH6bsYVXbc9"
      },
      "source": [
        "#importing libraries\n",
        "import pandas as pd\n",
        "import numpy as np\n",
        "from sklearn.linear_model import LogisticRegression\n",
        "from sklearn.preprocessing import PolynomialFeatures\n",
        "from sklearn.model_selection import train_test_split\n",
        "from sklearn.model_selection import KFold\n",
        "from sklearn.linear_model import LinearRegression\n",
        "from sklearn import metrics\n",
        "import matplotlib.pyplot as plt\n",
        "import seaborn as sns\n",
        "from datetime import datetime\n",
        "from sklearn.preprocessing import LabelEncoder\n",
        "le=LabelEncoder()"
      ],
      "execution_count": 1,
      "outputs": []
    },
    {
      "cell_type": "markdown",
      "metadata": {
        "id": "m9pWAPE1Xguw"
      },
      "source": [
        "**Loading and Previewing dataset**"
      ]
    },
    {
      "cell_type": "markdown",
      "metadata": {
        "id": "kQui56HRc4Bd"
      },
      "source": [
        "**Ranking Dataset**"
      ]
    },
    {
      "cell_type": "code",
      "metadata": {
        "id": "XJn2KjW-WMlG",
        "colab": {
          "base_uri": "https://localhost:8080/",
          "height": 308
        },
        "outputId": "f657b8c0-3884-4a4d-a735-2b73973d7305"
      },
      "source": [
        "# Loading the Dataset\n",
        "ranking=pd.read_csv('/content/fifa_ranking.csv')\n",
        "ranking.head()"
      ],
      "execution_count": 2,
      "outputs": [
        {
          "output_type": "execute_result",
          "data": {
            "text/html": [
              "<div>\n",
              "<style scoped>\n",
              "    .dataframe tbody tr th:only-of-type {\n",
              "        vertical-align: middle;\n",
              "    }\n",
              "\n",
              "    .dataframe tbody tr th {\n",
              "        vertical-align: top;\n",
              "    }\n",
              "\n",
              "    .dataframe thead th {\n",
              "        text-align: right;\n",
              "    }\n",
              "</style>\n",
              "<table border=\"1\" class=\"dataframe\">\n",
              "  <thead>\n",
              "    <tr style=\"text-align: right;\">\n",
              "      <th></th>\n",
              "      <th>rank</th>\n",
              "      <th>country_full</th>\n",
              "      <th>country_abrv</th>\n",
              "      <th>total_points</th>\n",
              "      <th>previous_points</th>\n",
              "      <th>rank_change</th>\n",
              "      <th>cur_year_avg</th>\n",
              "      <th>cur_year_avg_weighted</th>\n",
              "      <th>last_year_avg</th>\n",
              "      <th>last_year_avg_weighted</th>\n",
              "      <th>two_year_ago_avg</th>\n",
              "      <th>two_year_ago_weighted</th>\n",
              "      <th>three_year_ago_avg</th>\n",
              "      <th>three_year_ago_weighted</th>\n",
              "      <th>confederation</th>\n",
              "      <th>rank_date</th>\n",
              "    </tr>\n",
              "  </thead>\n",
              "  <tbody>\n",
              "    <tr>\n",
              "      <th>0</th>\n",
              "      <td>1</td>\n",
              "      <td>Germany</td>\n",
              "      <td>GER</td>\n",
              "      <td>0.0</td>\n",
              "      <td>57</td>\n",
              "      <td>0</td>\n",
              "      <td>0.0</td>\n",
              "      <td>0.0</td>\n",
              "      <td>0.0</td>\n",
              "      <td>0.0</td>\n",
              "      <td>0.0</td>\n",
              "      <td>0.0</td>\n",
              "      <td>0.0</td>\n",
              "      <td>0.0</td>\n",
              "      <td>UEFA</td>\n",
              "      <td>1993-08-08</td>\n",
              "    </tr>\n",
              "    <tr>\n",
              "      <th>1</th>\n",
              "      <td>2</td>\n",
              "      <td>Italy</td>\n",
              "      <td>ITA</td>\n",
              "      <td>0.0</td>\n",
              "      <td>57</td>\n",
              "      <td>0</td>\n",
              "      <td>0.0</td>\n",
              "      <td>0.0</td>\n",
              "      <td>0.0</td>\n",
              "      <td>0.0</td>\n",
              "      <td>0.0</td>\n",
              "      <td>0.0</td>\n",
              "      <td>0.0</td>\n",
              "      <td>0.0</td>\n",
              "      <td>UEFA</td>\n",
              "      <td>1993-08-08</td>\n",
              "    </tr>\n",
              "    <tr>\n",
              "      <th>2</th>\n",
              "      <td>3</td>\n",
              "      <td>Switzerland</td>\n",
              "      <td>SUI</td>\n",
              "      <td>0.0</td>\n",
              "      <td>50</td>\n",
              "      <td>9</td>\n",
              "      <td>0.0</td>\n",
              "      <td>0.0</td>\n",
              "      <td>0.0</td>\n",
              "      <td>0.0</td>\n",
              "      <td>0.0</td>\n",
              "      <td>0.0</td>\n",
              "      <td>0.0</td>\n",
              "      <td>0.0</td>\n",
              "      <td>UEFA</td>\n",
              "      <td>1993-08-08</td>\n",
              "    </tr>\n",
              "    <tr>\n",
              "      <th>3</th>\n",
              "      <td>4</td>\n",
              "      <td>Sweden</td>\n",
              "      <td>SWE</td>\n",
              "      <td>0.0</td>\n",
              "      <td>55</td>\n",
              "      <td>0</td>\n",
              "      <td>0.0</td>\n",
              "      <td>0.0</td>\n",
              "      <td>0.0</td>\n",
              "      <td>0.0</td>\n",
              "      <td>0.0</td>\n",
              "      <td>0.0</td>\n",
              "      <td>0.0</td>\n",
              "      <td>0.0</td>\n",
              "      <td>UEFA</td>\n",
              "      <td>1993-08-08</td>\n",
              "    </tr>\n",
              "    <tr>\n",
              "      <th>4</th>\n",
              "      <td>5</td>\n",
              "      <td>Argentina</td>\n",
              "      <td>ARG</td>\n",
              "      <td>0.0</td>\n",
              "      <td>51</td>\n",
              "      <td>5</td>\n",
              "      <td>0.0</td>\n",
              "      <td>0.0</td>\n",
              "      <td>0.0</td>\n",
              "      <td>0.0</td>\n",
              "      <td>0.0</td>\n",
              "      <td>0.0</td>\n",
              "      <td>0.0</td>\n",
              "      <td>0.0</td>\n",
              "      <td>CONMEBOL</td>\n",
              "      <td>1993-08-08</td>\n",
              "    </tr>\n",
              "  </tbody>\n",
              "</table>\n",
              "</div>"
            ],
            "text/plain": [
              "   rank country_full  ... confederation   rank_date\n",
              "0     1      Germany  ...          UEFA  1993-08-08\n",
              "1     2        Italy  ...          UEFA  1993-08-08\n",
              "2     3  Switzerland  ...          UEFA  1993-08-08\n",
              "3     4       Sweden  ...          UEFA  1993-08-08\n",
              "4     5    Argentina  ...      CONMEBOL  1993-08-08\n",
              "\n",
              "[5 rows x 16 columns]"
            ]
          },
          "metadata": {},
          "execution_count": 2
        }
      ]
    },
    {
      "cell_type": "code",
      "metadata": {
        "colab": {
          "base_uri": "https://localhost:8080/",
          "height": 308
        },
        "id": "YEf5piT6fTsL",
        "outputId": "3a59ddf3-16a1-4c48-9cab-8a83749d0fb9"
      },
      "source": [
        "ranking.tail()"
      ],
      "execution_count": 3,
      "outputs": [
        {
          "output_type": "execute_result",
          "data": {
            "text/html": [
              "<div>\n",
              "<style scoped>\n",
              "    .dataframe tbody tr th:only-of-type {\n",
              "        vertical-align: middle;\n",
              "    }\n",
              "\n",
              "    .dataframe tbody tr th {\n",
              "        vertical-align: top;\n",
              "    }\n",
              "\n",
              "    .dataframe thead th {\n",
              "        text-align: right;\n",
              "    }\n",
              "</style>\n",
              "<table border=\"1\" class=\"dataframe\">\n",
              "  <thead>\n",
              "    <tr style=\"text-align: right;\">\n",
              "      <th></th>\n",
              "      <th>rank</th>\n",
              "      <th>country_full</th>\n",
              "      <th>country_abrv</th>\n",
              "      <th>total_points</th>\n",
              "      <th>previous_points</th>\n",
              "      <th>rank_change</th>\n",
              "      <th>cur_year_avg</th>\n",
              "      <th>cur_year_avg_weighted</th>\n",
              "      <th>last_year_avg</th>\n",
              "      <th>last_year_avg_weighted</th>\n",
              "      <th>two_year_ago_avg</th>\n",
              "      <th>two_year_ago_weighted</th>\n",
              "      <th>three_year_ago_avg</th>\n",
              "      <th>three_year_ago_weighted</th>\n",
              "      <th>confederation</th>\n",
              "      <th>rank_date</th>\n",
              "    </tr>\n",
              "  </thead>\n",
              "  <tbody>\n",
              "    <tr>\n",
              "      <th>57788</th>\n",
              "      <td>206</td>\n",
              "      <td>Anguilla</td>\n",
              "      <td>AIA</td>\n",
              "      <td>0.0</td>\n",
              "      <td>0</td>\n",
              "      <td>1</td>\n",
              "      <td>0.0</td>\n",
              "      <td>0.0</td>\n",
              "      <td>0.0</td>\n",
              "      <td>0.0</td>\n",
              "      <td>0.0</td>\n",
              "      <td>0.0</td>\n",
              "      <td>0.0</td>\n",
              "      <td>0.0</td>\n",
              "      <td>CONCACAF</td>\n",
              "      <td>2018-06-07</td>\n",
              "    </tr>\n",
              "    <tr>\n",
              "      <th>57789</th>\n",
              "      <td>206</td>\n",
              "      <td>Bahamas</td>\n",
              "      <td>BAH</td>\n",
              "      <td>0.0</td>\n",
              "      <td>0</td>\n",
              "      <td>1</td>\n",
              "      <td>0.0</td>\n",
              "      <td>0.0</td>\n",
              "      <td>0.0</td>\n",
              "      <td>0.0</td>\n",
              "      <td>0.0</td>\n",
              "      <td>0.0</td>\n",
              "      <td>0.0</td>\n",
              "      <td>0.0</td>\n",
              "      <td>CONCACAF</td>\n",
              "      <td>2018-06-07</td>\n",
              "    </tr>\n",
              "    <tr>\n",
              "      <th>57790</th>\n",
              "      <td>206</td>\n",
              "      <td>Eritrea</td>\n",
              "      <td>ERI</td>\n",
              "      <td>0.0</td>\n",
              "      <td>0</td>\n",
              "      <td>1</td>\n",
              "      <td>0.0</td>\n",
              "      <td>0.0</td>\n",
              "      <td>0.0</td>\n",
              "      <td>0.0</td>\n",
              "      <td>0.0</td>\n",
              "      <td>0.0</td>\n",
              "      <td>0.0</td>\n",
              "      <td>0.0</td>\n",
              "      <td>CAF</td>\n",
              "      <td>2018-06-07</td>\n",
              "    </tr>\n",
              "    <tr>\n",
              "      <th>57791</th>\n",
              "      <td>206</td>\n",
              "      <td>Somalia</td>\n",
              "      <td>SOM</td>\n",
              "      <td>0.0</td>\n",
              "      <td>0</td>\n",
              "      <td>1</td>\n",
              "      <td>0.0</td>\n",
              "      <td>0.0</td>\n",
              "      <td>0.0</td>\n",
              "      <td>0.0</td>\n",
              "      <td>0.0</td>\n",
              "      <td>0.0</td>\n",
              "      <td>0.0</td>\n",
              "      <td>0.0</td>\n",
              "      <td>CAF</td>\n",
              "      <td>2018-06-07</td>\n",
              "    </tr>\n",
              "    <tr>\n",
              "      <th>57792</th>\n",
              "      <td>206</td>\n",
              "      <td>Tonga</td>\n",
              "      <td>TGA</td>\n",
              "      <td>0.0</td>\n",
              "      <td>0</td>\n",
              "      <td>1</td>\n",
              "      <td>0.0</td>\n",
              "      <td>0.0</td>\n",
              "      <td>0.0</td>\n",
              "      <td>0.0</td>\n",
              "      <td>0.0</td>\n",
              "      <td>0.0</td>\n",
              "      <td>0.0</td>\n",
              "      <td>0.0</td>\n",
              "      <td>OFC</td>\n",
              "      <td>2018-06-07</td>\n",
              "    </tr>\n",
              "  </tbody>\n",
              "</table>\n",
              "</div>"
            ],
            "text/plain": [
              "       rank country_full  ... confederation   rank_date\n",
              "57788   206     Anguilla  ...      CONCACAF  2018-06-07\n",
              "57789   206      Bahamas  ...      CONCACAF  2018-06-07\n",
              "57790   206      Eritrea  ...           CAF  2018-06-07\n",
              "57791   206      Somalia  ...           CAF  2018-06-07\n",
              "57792   206        Tonga  ...           OFC  2018-06-07\n",
              "\n",
              "[5 rows x 16 columns]"
            ]
          },
          "metadata": {},
          "execution_count": 3
        }
      ]
    },
    {
      "cell_type": "code",
      "metadata": {
        "colab": {
          "base_uri": "https://localhost:8080/"
        },
        "id": "cutqNRCtdAYk",
        "outputId": "06cd1cf6-41c9-4019-cf5c-de3d05a37a16"
      },
      "source": [
        "#checking the number of columns and rows\n",
        "ranking.shape\n",
        "#the ranking dataset has 57793 rows and 16 columns"
      ],
      "execution_count": 4,
      "outputs": [
        {
          "output_type": "execute_result",
          "data": {
            "text/plain": [
              "(57793, 16)"
            ]
          },
          "metadata": {},
          "execution_count": 4
        }
      ]
    },
    {
      "cell_type": "code",
      "metadata": {
        "colab": {
          "base_uri": "https://localhost:8080/"
        },
        "id": "Qb5AvBPvdiNt",
        "outputId": "d28f81d2-926b-4f01-b469-15557a2c98f4"
      },
      "source": [
        "#checking for column data types\n",
        "ranking.dtypes"
      ],
      "execution_count": 5,
      "outputs": [
        {
          "output_type": "execute_result",
          "data": {
            "text/plain": [
              "rank                         int64\n",
              "country_full                object\n",
              "country_abrv                object\n",
              "total_points               float64\n",
              "previous_points              int64\n",
              "rank_change                  int64\n",
              "cur_year_avg               float64\n",
              "cur_year_avg_weighted      float64\n",
              "last_year_avg              float64\n",
              "last_year_avg_weighted     float64\n",
              "two_year_ago_avg           float64\n",
              "two_year_ago_weighted      float64\n",
              "three_year_ago_avg         float64\n",
              "three_year_ago_weighted    float64\n",
              "confederation               object\n",
              "rank_date                   object\n",
              "dtype: object"
            ]
          },
          "metadata": {},
          "execution_count": 5
        }
      ]
    },
    {
      "cell_type": "code",
      "metadata": {
        "colab": {
          "base_uri": "https://localhost:8080/"
        },
        "id": "Ean0Kmukue-x",
        "outputId": "be53e597-dd1a-4161-cb57-64c85d1587ee"
      },
      "source": [
        "ranking['rank_date'].unique()\n",
        "#the time period of the ranking dataframe runs from 1993/08/08 to 2018-05-17"
      ],
      "execution_count": 6,
      "outputs": [
        {
          "output_type": "execute_result",
          "data": {
            "text/plain": [
              "array(['1993-08-08', '1993-09-23', '1993-10-22', '1993-11-19',\n",
              "       '1993-12-23', '1994-02-15', '1994-03-15', '1994-04-19',\n",
              "       '1994-05-17', '1994-06-14', '1994-07-21', '1994-09-13',\n",
              "       '1994-10-25', '1994-11-22', '1994-12-20', '1995-02-20',\n",
              "       '1995-04-19', '1995-05-16', '1995-06-13', '1995-07-25',\n",
              "       '1995-08-22', '1995-09-19', '1995-10-17', '1995-11-21',\n",
              "       '1995-12-19', '1996-01-24', '1996-02-21', '1996-04-24',\n",
              "       '1996-05-22', '1996-07-03', '1996-08-28', '1996-09-25',\n",
              "       '1996-10-23', '1996-11-20', '1996-12-18', '1997-02-27',\n",
              "       '1997-04-09', '1997-05-14', '1997-06-18', '1997-07-16',\n",
              "       '1997-08-20', '1997-09-17', '1997-10-17', '1997-11-19',\n",
              "       '1997-12-23', '1998-02-18', '1998-03-18', '1998-04-22',\n",
              "       '1998-05-20', '1998-07-15', '1998-08-19', '1998-09-16',\n",
              "       '1998-10-21', '1998-11-18', '1998-12-23', '1999-01-27',\n",
              "       '1999-02-24', '1999-03-24', '1999-04-21', '1999-05-19',\n",
              "       '1999-06-16', '1999-07-21', '1999-08-18', '1999-09-15',\n",
              "       '1999-10-13', '1999-11-17', '1999-12-22', '2000-01-19',\n",
              "       '2000-02-16', '2000-03-15', '2000-04-12', '2000-05-10',\n",
              "       '2000-06-07', '2000-07-05', '2000-08-09', '2000-09-06',\n",
              "       '2000-10-11', '2000-11-15', '2000-12-20', '2001-01-17',\n",
              "       '2001-02-14', '2001-03-14', '2001-04-11', '2001-05-16',\n",
              "       '2001-06-20', '2001-07-18', '2001-08-22', '2001-09-19',\n",
              "       '2001-10-17', '2001-11-21', '2001-12-19', '2002-01-16',\n",
              "       '2002-02-13', '2002-03-20', '2002-04-17', '2002-05-15',\n",
              "       '2002-07-03', '2002-08-14', '2002-09-18', '2002-10-23',\n",
              "       '2002-11-20', '2002-12-18', '2003-01-15', '2003-02-19',\n",
              "       '2003-03-26', '2003-04-23', '2003-05-21', '2003-06-25',\n",
              "       '2003-07-30', '2003-08-27', '2003-09-24', '2003-10-22',\n",
              "       '2003-11-19', '2003-12-15', '2004-01-14', '2004-02-18',\n",
              "       '2004-03-17', '2004-04-14', '2004-05-12', '2004-06-09',\n",
              "       '2004-07-07', '2004-08-04', '2004-09-01', '2004-10-06',\n",
              "       '2004-11-10', '2004-12-20', '2005-01-19', '2005-02-16',\n",
              "       '2005-03-23', '2005-04-20', '2005-05-18', '2005-06-15',\n",
              "       '2005-07-20', '2005-08-17', '2005-09-12', '2005-10-17',\n",
              "       '2005-11-21', '2005-12-16', '2006-01-18', '2006-02-15',\n",
              "       '2006-03-15', '2006-04-19', '2006-05-17', '2006-07-12',\n",
              "       '2006-08-16', '2006-09-13', '2006-10-18', '2006-11-22',\n",
              "       '2006-12-18', '2007-01-17', '2007-02-14', '2007-03-14',\n",
              "       '2007-04-18', '2007-05-16', '2007-06-13', '2007-07-18',\n",
              "       '2007-08-22', '2007-09-19', '2007-10-24', '2007-11-23',\n",
              "       '2007-12-17', '2008-01-16', '2008-02-13', '2008-03-12',\n",
              "       '2008-04-09', '2008-05-07', '2008-06-04', '2008-07-02',\n",
              "       '2008-08-06', '2008-09-03', '2008-10-08', '2008-11-12',\n",
              "       '2008-12-17', '2009-01-14', '2009-02-11', '2009-03-11',\n",
              "       '2009-04-08', '2009-05-06', '2009-06-03', '2009-07-01',\n",
              "       '2009-08-05', '2009-09-02', '2009-10-16', '2009-11-20',\n",
              "       '2009-12-16', '2010-02-03', '2010-03-03', '2010-03-31',\n",
              "       '2010-04-28', '2010-05-26', '2010-07-14', '2010-08-11',\n",
              "       '2010-09-15', '2010-10-20', '2010-11-17', '2010-12-15',\n",
              "       '2011-01-12', '2011-02-02', '2011-03-09', '2011-04-13',\n",
              "       '2011-05-18', '2011-06-29', '2011-07-27', '2011-08-24',\n",
              "       '2011-09-21', '2011-10-19', '2011-11-23', '2011-12-21',\n",
              "       '2012-01-18', '2012-02-15', '2012-03-07', '2012-04-11',\n",
              "       '2012-05-09', '2012-06-06', '2012-07-04', '2012-08-08',\n",
              "       '2012-09-05', '2012-10-03', '2012-11-07', '2012-12-19',\n",
              "       '2013-01-17', '2013-02-14', '2013-03-14', '2013-04-11',\n",
              "       '2013-05-09', '2013-06-06', '2013-07-04', '2013-08-08',\n",
              "       '2013-09-12', '2013-10-17', '2013-11-28', '2013-12-19',\n",
              "       '2014-01-16', '2014-02-13', '2014-03-13', '2014-04-10',\n",
              "       '2014-05-08', '2014-06-05', '2014-07-17', '2014-08-14',\n",
              "       '2014-09-18', '2014-10-23', '2014-11-27', '2014-12-18',\n",
              "       '2015-01-08', '2015-02-12', '2015-03-12', '2015-04-09',\n",
              "       '2015-05-07', '2015-06-04', '2015-07-09', '2015-08-06',\n",
              "       '2015-09-03', '2015-10-01', '2015-11-05', '2015-12-03',\n",
              "       '2016-01-07', '2016-02-04', '2016-03-03', '2016-04-07',\n",
              "       '2016-05-05', '2016-06-02', '2016-07-14', '2016-08-11',\n",
              "       '2016-09-15', '2016-10-20', '2016-11-24', '2016-12-22',\n",
              "       '2017-01-12', '2017-02-09', '2017-03-09', '2017-04-06',\n",
              "       '2017-05-04', '2017-06-01', '2017-07-06', '2017-08-10',\n",
              "       '2017-09-14', '2017-10-16', '2017-11-23', '2017-12-21',\n",
              "       '2018-01-18', '2018-02-15', '2018-03-15', '2018-04-12',\n",
              "       '2018-05-17', '2018-06-07'], dtype=object)"
            ]
          },
          "metadata": {},
          "execution_count": 6
        }
      ]
    },
    {
      "cell_type": "markdown",
      "metadata": {
        "id": "p9X8bGKDezeX"
      },
      "source": [
        "**Results Dataset**"
      ]
    },
    {
      "cell_type": "code",
      "metadata": {
        "colab": {
          "base_uri": "https://localhost:8080/",
          "height": 204
        },
        "id": "JtJu_iPNYZq2",
        "outputId": "5eea2bca-73ae-4e0c-b04f-5c7994c8ec8e"
      },
      "source": [
        "results=pd.read_csv('/content/results.csv')\n",
        "results.head()"
      ],
      "execution_count": 7,
      "outputs": [
        {
          "output_type": "execute_result",
          "data": {
            "text/html": [
              "<div>\n",
              "<style scoped>\n",
              "    .dataframe tbody tr th:only-of-type {\n",
              "        vertical-align: middle;\n",
              "    }\n",
              "\n",
              "    .dataframe tbody tr th {\n",
              "        vertical-align: top;\n",
              "    }\n",
              "\n",
              "    .dataframe thead th {\n",
              "        text-align: right;\n",
              "    }\n",
              "</style>\n",
              "<table border=\"1\" class=\"dataframe\">\n",
              "  <thead>\n",
              "    <tr style=\"text-align: right;\">\n",
              "      <th></th>\n",
              "      <th>date</th>\n",
              "      <th>home_team</th>\n",
              "      <th>away_team</th>\n",
              "      <th>home_score</th>\n",
              "      <th>away_score</th>\n",
              "      <th>tournament</th>\n",
              "      <th>city</th>\n",
              "      <th>country</th>\n",
              "      <th>neutral</th>\n",
              "    </tr>\n",
              "  </thead>\n",
              "  <tbody>\n",
              "    <tr>\n",
              "      <th>0</th>\n",
              "      <td>1872-11-30</td>\n",
              "      <td>Scotland</td>\n",
              "      <td>England</td>\n",
              "      <td>0</td>\n",
              "      <td>0</td>\n",
              "      <td>Friendly</td>\n",
              "      <td>Glasgow</td>\n",
              "      <td>Scotland</td>\n",
              "      <td>False</td>\n",
              "    </tr>\n",
              "    <tr>\n",
              "      <th>1</th>\n",
              "      <td>1873-03-08</td>\n",
              "      <td>England</td>\n",
              "      <td>Scotland</td>\n",
              "      <td>4</td>\n",
              "      <td>2</td>\n",
              "      <td>Friendly</td>\n",
              "      <td>London</td>\n",
              "      <td>England</td>\n",
              "      <td>False</td>\n",
              "    </tr>\n",
              "    <tr>\n",
              "      <th>2</th>\n",
              "      <td>1874-03-07</td>\n",
              "      <td>Scotland</td>\n",
              "      <td>England</td>\n",
              "      <td>2</td>\n",
              "      <td>1</td>\n",
              "      <td>Friendly</td>\n",
              "      <td>Glasgow</td>\n",
              "      <td>Scotland</td>\n",
              "      <td>False</td>\n",
              "    </tr>\n",
              "    <tr>\n",
              "      <th>3</th>\n",
              "      <td>1875-03-06</td>\n",
              "      <td>England</td>\n",
              "      <td>Scotland</td>\n",
              "      <td>2</td>\n",
              "      <td>2</td>\n",
              "      <td>Friendly</td>\n",
              "      <td>London</td>\n",
              "      <td>England</td>\n",
              "      <td>False</td>\n",
              "    </tr>\n",
              "    <tr>\n",
              "      <th>4</th>\n",
              "      <td>1876-03-04</td>\n",
              "      <td>Scotland</td>\n",
              "      <td>England</td>\n",
              "      <td>3</td>\n",
              "      <td>0</td>\n",
              "      <td>Friendly</td>\n",
              "      <td>Glasgow</td>\n",
              "      <td>Scotland</td>\n",
              "      <td>False</td>\n",
              "    </tr>\n",
              "  </tbody>\n",
              "</table>\n",
              "</div>"
            ],
            "text/plain": [
              "         date home_team away_team  ...     city   country neutral\n",
              "0  1872-11-30  Scotland   England  ...  Glasgow  Scotland   False\n",
              "1  1873-03-08   England  Scotland  ...   London   England   False\n",
              "2  1874-03-07  Scotland   England  ...  Glasgow  Scotland   False\n",
              "3  1875-03-06   England  Scotland  ...   London   England   False\n",
              "4  1876-03-04  Scotland   England  ...  Glasgow  Scotland   False\n",
              "\n",
              "[5 rows x 9 columns]"
            ]
          },
          "metadata": {},
          "execution_count": 7
        }
      ]
    },
    {
      "cell_type": "code",
      "metadata": {
        "colab": {
          "base_uri": "https://localhost:8080/",
          "height": 204
        },
        "id": "nukUURJ3e9IR",
        "outputId": "ddc66534-1391-4d25-f6b4-56ae08c1e31a"
      },
      "source": [
        "results.tail()"
      ],
      "execution_count": 8,
      "outputs": [
        {
          "output_type": "execute_result",
          "data": {
            "text/html": [
              "<div>\n",
              "<style scoped>\n",
              "    .dataframe tbody tr th:only-of-type {\n",
              "        vertical-align: middle;\n",
              "    }\n",
              "\n",
              "    .dataframe tbody tr th {\n",
              "        vertical-align: top;\n",
              "    }\n",
              "\n",
              "    .dataframe thead th {\n",
              "        text-align: right;\n",
              "    }\n",
              "</style>\n",
              "<table border=\"1\" class=\"dataframe\">\n",
              "  <thead>\n",
              "    <tr style=\"text-align: right;\">\n",
              "      <th></th>\n",
              "      <th>date</th>\n",
              "      <th>home_team</th>\n",
              "      <th>away_team</th>\n",
              "      <th>home_score</th>\n",
              "      <th>away_score</th>\n",
              "      <th>tournament</th>\n",
              "      <th>city</th>\n",
              "      <th>country</th>\n",
              "      <th>neutral</th>\n",
              "    </tr>\n",
              "  </thead>\n",
              "  <tbody>\n",
              "    <tr>\n",
              "      <th>40834</th>\n",
              "      <td>2019-07-18</td>\n",
              "      <td>American Samoa</td>\n",
              "      <td>Tahiti</td>\n",
              "      <td>8</td>\n",
              "      <td>1</td>\n",
              "      <td>Pacific Games</td>\n",
              "      <td>Apia</td>\n",
              "      <td>Samoa</td>\n",
              "      <td>True</td>\n",
              "    </tr>\n",
              "    <tr>\n",
              "      <th>40835</th>\n",
              "      <td>2019-07-18</td>\n",
              "      <td>Fiji</td>\n",
              "      <td>Solomon Islands</td>\n",
              "      <td>4</td>\n",
              "      <td>4</td>\n",
              "      <td>Pacific Games</td>\n",
              "      <td>Apia</td>\n",
              "      <td>Samoa</td>\n",
              "      <td>True</td>\n",
              "    </tr>\n",
              "    <tr>\n",
              "      <th>40836</th>\n",
              "      <td>2019-07-19</td>\n",
              "      <td>Senegal</td>\n",
              "      <td>Algeria</td>\n",
              "      <td>0</td>\n",
              "      <td>1</td>\n",
              "      <td>African Cup of Nations</td>\n",
              "      <td>Cairo</td>\n",
              "      <td>Egypt</td>\n",
              "      <td>True</td>\n",
              "    </tr>\n",
              "    <tr>\n",
              "      <th>40837</th>\n",
              "      <td>2019-07-19</td>\n",
              "      <td>Tajikistan</td>\n",
              "      <td>North Korea</td>\n",
              "      <td>0</td>\n",
              "      <td>1</td>\n",
              "      <td>Intercontinental Cup</td>\n",
              "      <td>Ahmedabad</td>\n",
              "      <td>India</td>\n",
              "      <td>True</td>\n",
              "    </tr>\n",
              "    <tr>\n",
              "      <th>40838</th>\n",
              "      <td>2019-07-20</td>\n",
              "      <td>Papua New Guinea</td>\n",
              "      <td>Fiji</td>\n",
              "      <td>1</td>\n",
              "      <td>1</td>\n",
              "      <td>Pacific Games</td>\n",
              "      <td>Apia</td>\n",
              "      <td>Samoa</td>\n",
              "      <td>True</td>\n",
              "    </tr>\n",
              "  </tbody>\n",
              "</table>\n",
              "</div>"
            ],
            "text/plain": [
              "             date         home_team  ... country  neutral\n",
              "40834  2019-07-18    American Samoa  ...   Samoa     True\n",
              "40835  2019-07-18              Fiji  ...   Samoa     True\n",
              "40836  2019-07-19           Senegal  ...   Egypt     True\n",
              "40837  2019-07-19        Tajikistan  ...   India     True\n",
              "40838  2019-07-20  Papua New Guinea  ...   Samoa     True\n",
              "\n",
              "[5 rows x 9 columns]"
            ]
          },
          "metadata": {},
          "execution_count": 8
        }
      ]
    },
    {
      "cell_type": "code",
      "metadata": {
        "colab": {
          "base_uri": "https://localhost:8080/"
        },
        "id": "e4Sp1GzEe9RG",
        "outputId": "0099005f-1644-493a-f20d-30da9ec96816"
      },
      "source": [
        "#Checking the number of columns in the results dataset\n",
        "results.shape\n",
        "#the results dataset has 40839 row and 9 columns"
      ],
      "execution_count": 9,
      "outputs": [
        {
          "output_type": "execute_result",
          "data": {
            "text/plain": [
              "(40839, 9)"
            ]
          },
          "metadata": {},
          "execution_count": 9
        }
      ]
    },
    {
      "cell_type": "code",
      "metadata": {
        "colab": {
          "base_uri": "https://localhost:8080/"
        },
        "id": "_oDdWf5TfHmm",
        "outputId": "d0bb193a-0e6f-4a2a-e98a-240dacd18d56"
      },
      "source": [
        "#cheking column data types\n",
        "results.dtypes"
      ],
      "execution_count": 10,
      "outputs": [
        {
          "output_type": "execute_result",
          "data": {
            "text/plain": [
              "date          object\n",
              "home_team     object\n",
              "away_team     object\n",
              "home_score     int64\n",
              "away_score     int64\n",
              "tournament    object\n",
              "city          object\n",
              "country       object\n",
              "neutral         bool\n",
              "dtype: object"
            ]
          },
          "metadata": {},
          "execution_count": 10
        }
      ]
    },
    {
      "cell_type": "code",
      "metadata": {
        "colab": {
          "base_uri": "https://localhost:8080/"
        },
        "id": "5oa4NyGJu_G5",
        "outputId": "a6ef98cf-4c63-42a5-b8e1-c5bfa1bfea04"
      },
      "source": [
        "results['date'].unique()\n",
        "#the time period of the ranking dataframe runs from 11872-11-30 to 019-07-20"
      ],
      "execution_count": 11,
      "outputs": [
        {
          "output_type": "execute_result",
          "data": {
            "text/plain": [
              "array(['1872-11-30', '1873-03-08', '1874-03-07', ..., '2019-07-18',\n",
              "       '2019-07-19', '2019-07-20'], dtype=object)"
            ]
          },
          "metadata": {},
          "execution_count": 11
        }
      ]
    },
    {
      "cell_type": "markdown",
      "metadata": {
        "id": "6XC_g-zKxe-r"
      },
      "source": [
        "### a.Validation"
      ]
    },
    {
      "cell_type": "markdown",
      "metadata": {
        "id": "FlBMxEDBUc9B"
      },
      "source": [
        "## **3. Tidying the Dataset**"
      ]
    },
    {
      "cell_type": "markdown",
      "metadata": {
        "id": "l4mPpsl-gmBj"
      },
      "source": [
        "**checking and correcting column names**"
      ]
    },
    {
      "cell_type": "code",
      "metadata": {
        "id": "XGgHUhC5g2gZ"
      },
      "source": [
        "ranking.columns = ranking.columns.str.strip().str.lower().str.replace(' ', '_').str.replace('(', '').str.replace(')', '')\n",
        "results.columns = results.columns.str.strip().str.lower().str.replace(' ', '_').str.replace('(', '').str.replace(')', '')"
      ],
      "execution_count": 12,
      "outputs": []
    },
    {
      "cell_type": "code",
      "metadata": {
        "colab": {
          "base_uri": "https://localhost:8080/",
          "height": 0
        },
        "id": "A5TGy1YJoVSV",
        "outputId": "b666b659-bf5b-4ae2-b377-18290f43e8c7"
      },
      "source": [
        "#Dropping Unnecesary Columns\n",
        "rank=ranking[['rank','country_full','rank_date']]\n",
        "rank.columns=['rank','country','rank_date']\n",
        "rankdf=pd.DataFrame(rank)\n",
        "rankdf.head(3)"
      ],
      "execution_count": 13,
      "outputs": [
        {
          "output_type": "execute_result",
          "data": {
            "text/html": [
              "<div>\n",
              "<style scoped>\n",
              "    .dataframe tbody tr th:only-of-type {\n",
              "        vertical-align: middle;\n",
              "    }\n",
              "\n",
              "    .dataframe tbody tr th {\n",
              "        vertical-align: top;\n",
              "    }\n",
              "\n",
              "    .dataframe thead th {\n",
              "        text-align: right;\n",
              "    }\n",
              "</style>\n",
              "<table border=\"1\" class=\"dataframe\">\n",
              "  <thead>\n",
              "    <tr style=\"text-align: right;\">\n",
              "      <th></th>\n",
              "      <th>rank</th>\n",
              "      <th>country</th>\n",
              "      <th>rank_date</th>\n",
              "    </tr>\n",
              "  </thead>\n",
              "  <tbody>\n",
              "    <tr>\n",
              "      <th>0</th>\n",
              "      <td>1</td>\n",
              "      <td>Germany</td>\n",
              "      <td>1993-08-08</td>\n",
              "    </tr>\n",
              "    <tr>\n",
              "      <th>1</th>\n",
              "      <td>2</td>\n",
              "      <td>Italy</td>\n",
              "      <td>1993-08-08</td>\n",
              "    </tr>\n",
              "    <tr>\n",
              "      <th>2</th>\n",
              "      <td>3</td>\n",
              "      <td>Switzerland</td>\n",
              "      <td>1993-08-08</td>\n",
              "    </tr>\n",
              "  </tbody>\n",
              "</table>\n",
              "</div>"
            ],
            "text/plain": [
              "   rank      country   rank_date\n",
              "0     1      Germany  1993-08-08\n",
              "1     2        Italy  1993-08-08\n",
              "2     3  Switzerland  1993-08-08"
            ]
          },
          "metadata": {},
          "execution_count": 13
        }
      ]
    },
    {
      "cell_type": "markdown",
      "metadata": {
        "id": "PTEINVMkhVwy"
      },
      "source": [
        "**Correcting Data Types**"
      ]
    },
    {
      "cell_type": "code",
      "metadata": {
        "colab": {
          "base_uri": "https://localhost:8080/"
        },
        "id": "c3r09nQKhSGb",
        "outputId": "7f4e1e60-edb5-4e52-ba07-fe31eea18afc"
      },
      "source": [
        "#Changing rank_date column from object data type to datetime data type\n",
        "rank_date=pd.to_datetime(ranking['rank_date'],errors='coerce')\n",
        "rankdf['rank_date']=rank_date\n",
        "rankdf['rank_date'].dtypes"
      ],
      "execution_count": 14,
      "outputs": [
        {
          "output_type": "execute_result",
          "data": {
            "text/plain": [
              "dtype('<M8[ns]')"
            ]
          },
          "metadata": {},
          "execution_count": 14
        }
      ]
    },
    {
      "cell_type": "code",
      "metadata": {
        "colab": {
          "base_uri": "https://localhost:8080/"
        },
        "id": "8Z7jhn29igSy",
        "outputId": "46062292-2d04-4f09-d095-399cc167273a"
      },
      "source": [
        "#Changing date column from object data type to datetime data type\n",
        "results_date=results['date'].astype('datetime64[ns]')\n",
        "results['date']=results_date\n",
        "results['date'].dtype\n"
      ],
      "execution_count": 15,
      "outputs": [
        {
          "output_type": "execute_result",
          "data": {
            "text/plain": [
              "dtype('<M8[ns]')"
            ]
          },
          "metadata": {},
          "execution_count": 15
        }
      ]
    },
    {
      "cell_type": "markdown",
      "metadata": {
        "id": "-TthYIVJn2KU"
      },
      "source": [
        "**Checking for outliers**"
      ]
    },
    {
      "cell_type": "code",
      "metadata": {
        "id": "5o_bQcT5W3Wz",
        "colab": {
          "base_uri": "https://localhost:8080/",
          "height": 0
        },
        "outputId": "f658e9af-2b50-410c-a463-a48abee67d6c"
      },
      "source": [
        "rankdf.boxplot(figsize=(10,6))\n",
        "#there are no outlier in the rankdf dataframe"
      ],
      "execution_count": 16,
      "outputs": [
        {
          "output_type": "execute_result",
          "data": {
            "text/plain": [
              "<matplotlib.axes._subplots.AxesSubplot at 0x7f1f6aadd890>"
            ]
          },
          "metadata": {},
          "execution_count": 16
        },
        {
          "output_type": "display_data",
          "data": {
            "image/png": "[encoded data removed]",
            "text/plain": [
              "<Figure size 720x432 with 1 Axes>"
            ]
          },
          "metadata": {
            "needs_background": "light"
          }
        }
      ]
    },
    {
      "cell_type": "code",
      "metadata": {
        "colab": {
          "base_uri": "https://localhost:8080/",
          "height": 0
        },
        "id": "tND5f99XqwMH",
        "outputId": "b7a11558-3810-4967-d753-1eb0e3a4d485"
      },
      "source": [
        "results.boxplot()\n",
        "#these ouliers in the results dataframe will not be dropped because it is possible to have scored those many goals"
      ],
      "execution_count": 17,
      "outputs": [
        {
          "output_type": "execute_result",
          "data": {
            "text/plain": [
              "<matplotlib.axes._subplots.AxesSubplot at 0x7f1f6aa9f610>"
            ]
          },
          "metadata": {},
          "execution_count": 17
        },
        {
          "output_type": "display_data",
          "data": {
            "image/png": "[encoded data removed]",
            "text/plain": [
              "<Figure size 432x288 with 1 Axes>"
            ]
          },
          "metadata": {
            "needs_background": "light"
          }
        }
      ]
    },
    {
      "cell_type": "markdown",
      "metadata": {
        "id": "8ZETpxCKrHQB"
      },
      "source": [
        "**Checking for missing values**"
      ]
    },
    {
      "cell_type": "code",
      "metadata": {
        "id": "PvCYb6dgW4yh",
        "colab": {
          "base_uri": "https://localhost:8080/"
        },
        "outputId": "577ecf6d-0a8c-4e53-c65b-9722215b71c6"
      },
      "source": [
        "# Identifying the Missing Data\n",
        "print(results.isnull().sum())\n",
        "print(rankdf.isnull().sum())\n",
        "#There are no missing values in our dataframes"
      ],
      "execution_count": 18,
      "outputs": [
        {
          "output_type": "stream",
          "name": "stdout",
          "text": [
            "date          0\n",
            "home_team     0\n",
            "away_team     0\n",
            "home_score    0\n",
            "away_score    0\n",
            "tournament    0\n",
            "city          0\n",
            "country       0\n",
            "neutral       0\n",
            "dtype: int64\n",
            "rank         0\n",
            "country      0\n",
            "rank_date    0\n",
            "dtype: int64\n"
          ]
        }
      ]
    },
    {
      "cell_type": "markdown",
      "metadata": {
        "id": "U9SJulZsGNz-"
      },
      "source": [
        "**Checking for Duplicated Records**"
      ]
    },
    {
      "cell_type": "code",
      "metadata": {
        "id": "D-4I__6Os4C5"
      },
      "source": [
        "# Identifying duplicated data\n",
        "def duplicated(df):\n",
        "  duplicates=df.duplicated().sum()\n",
        "  return duplicates\n"
      ],
      "execution_count": 19,
      "outputs": []
    },
    {
      "cell_type": "code",
      "metadata": {
        "colab": {
          "base_uri": "https://localhost:8080/"
        },
        "id": "t9jmRTtisNLm",
        "outputId": "38851ec7-2315-4288-a0a0-f3698ca5e1f9"
      },
      "source": [
        "duplicated(results)\n",
        "#There are no duplicaed values in the results df"
      ],
      "execution_count": 20,
      "outputs": [
        {
          "output_type": "execute_result",
          "data": {
            "text/plain": [
              "0"
            ]
          },
          "metadata": {},
          "execution_count": 20
        }
      ]
    },
    {
      "cell_type": "code",
      "metadata": {
        "colab": {
          "base_uri": "https://localhost:8080/"
        },
        "id": "Yk7b2SZ8saeg",
        "outputId": "ca1ddd2b-ee89-4d59-9c55-6dca88beaeee"
      },
      "source": [
        "#Checking duplicated records in the rank df\n",
        "duplicated(rankdf)\n",
        "#there are 38 duplicated records"
      ],
      "execution_count": 21,
      "outputs": [
        {
          "output_type": "execute_result",
          "data": {
            "text/plain": [
              "38"
            ]
          },
          "metadata": {},
          "execution_count": 21
        }
      ]
    },
    {
      "cell_type": "code",
      "metadata": {
        "colab": {
          "base_uri": "https://localhost:8080/"
        },
        "id": "zUkZXigPshLb",
        "outputId": "b0d3b701-da9e-46e3-a2ce-985bdd4001a4"
      },
      "source": [
        "#Dropping duplicates\n",
        "rankdf.drop_duplicates(inplace=True)\n",
        "rank.shape"
      ],
      "execution_count": 22,
      "outputs": [
        {
          "output_type": "execute_result",
          "data": {
            "text/plain": [
              "(57793, 3)"
            ]
          },
          "metadata": {},
          "execution_count": 22
        }
      ]
    },
    {
      "cell_type": "markdown",
      "metadata": {
        "id": "DImPj_72tKBP"
      },
      "source": [
        "**Unifying data date periods**"
      ]
    },
    {
      "cell_type": "code",
      "metadata": {
        "colab": {
          "base_uri": "https://localhost:8080/"
        },
        "id": "h-6ZefHiuRJG",
        "outputId": "f49260dc-6d72-413a-a9e0-04024aec5c39"
      },
      "source": [
        "#the data will run from same time periods i.e. 1993-2018\n",
        "rankdf = rankdf[rankdf.rank_date.dt.year > 1993]\n",
        "rankdf =rankdf[rankdf.rank_date.dt.year < 2018]\n",
        "results = results[results.date.dt.year > 1993]\n",
        "results = results[results.date.dt.year < 2018]\n",
        "print(rankdf.shape)\n",
        "print(results.shape)"
      ],
      "execution_count": 23,
      "outputs": [
        {
          "output_type": "stream",
          "name": "stdout",
          "text": [
            "(55652, 3)\n",
            "(21402, 9)\n"
          ]
        }
      ]
    },
    {
      "cell_type": "markdown",
      "metadata": {
        "id": "nyU1IoIQwX4K"
      },
      "source": [
        "## **4. Merging the Dataframes**"
      ]
    },
    {
      "cell_type": "markdown",
      "metadata": {
        "id": "mH_r2L1wyDUO"
      },
      "source": [
        "The merging will allow the visibility of the specific country ranks "
      ]
    },
    {
      "cell_type": "code",
      "metadata": {
        "colab": {
          "base_uri": "https://localhost:8080/",
          "height": 0
        },
        "id": "C0N7i0UbwWgb",
        "outputId": "a57e44f4-8f1e-45e5-e72a-c9085964a985"
      },
      "source": [
        "gamedf=pd.merge(rankdf,results,how='inner',on='country' )\n",
        "gamedf.head()"
      ],
      "execution_count": 24,
      "outputs": [
        {
          "output_type": "execute_result",
          "data": {
            "text/html": [
              "<div>\n",
              "<style scoped>\n",
              "    .dataframe tbody tr th:only-of-type {\n",
              "        vertical-align: middle;\n",
              "    }\n",
              "\n",
              "    .dataframe tbody tr th {\n",
              "        vertical-align: top;\n",
              "    }\n",
              "\n",
              "    .dataframe thead th {\n",
              "        text-align: right;\n",
              "    }\n",
              "</style>\n",
              "<table border=\"1\" class=\"dataframe\">\n",
              "  <thead>\n",
              "    <tr style=\"text-align: right;\">\n",
              "      <th></th>\n",
              "      <th>rank</th>\n",
              "      <th>country</th>\n",
              "      <th>rank_date</th>\n",
              "      <th>date</th>\n",
              "      <th>home_team</th>\n",
              "      <th>away_team</th>\n",
              "      <th>home_score</th>\n",
              "      <th>away_score</th>\n",
              "      <th>tournament</th>\n",
              "      <th>city</th>\n",
              "      <th>neutral</th>\n",
              "    </tr>\n",
              "  </thead>\n",
              "  <tbody>\n",
              "    <tr>\n",
              "      <th>0</th>\n",
              "      <td>1</td>\n",
              "      <td>Germany</td>\n",
              "      <td>1994-02-15</td>\n",
              "      <td>1994-03-23</td>\n",
              "      <td>Germany</td>\n",
              "      <td>Italy</td>\n",
              "      <td>2</td>\n",
              "      <td>1</td>\n",
              "      <td>Friendly</td>\n",
              "      <td>Stuttgart</td>\n",
              "      <td>False</td>\n",
              "    </tr>\n",
              "    <tr>\n",
              "      <th>1</th>\n",
              "      <td>1</td>\n",
              "      <td>Germany</td>\n",
              "      <td>1994-02-15</td>\n",
              "      <td>1994-05-29</td>\n",
              "      <td>Germany</td>\n",
              "      <td>Republic of Ireland</td>\n",
              "      <td>0</td>\n",
              "      <td>2</td>\n",
              "      <td>Friendly</td>\n",
              "      <td>Hanover</td>\n",
              "      <td>False</td>\n",
              "    </tr>\n",
              "    <tr>\n",
              "      <th>2</th>\n",
              "      <td>1</td>\n",
              "      <td>Germany</td>\n",
              "      <td>1994-02-15</td>\n",
              "      <td>1994-12-18</td>\n",
              "      <td>Germany</td>\n",
              "      <td>Albania</td>\n",
              "      <td>2</td>\n",
              "      <td>1</td>\n",
              "      <td>UEFA Euro qualification</td>\n",
              "      <td>Kaiserslautern</td>\n",
              "      <td>False</td>\n",
              "    </tr>\n",
              "    <tr>\n",
              "      <th>3</th>\n",
              "      <td>1</td>\n",
              "      <td>Germany</td>\n",
              "      <td>1994-02-15</td>\n",
              "      <td>1995-04-26</td>\n",
              "      <td>Germany</td>\n",
              "      <td>Wales</td>\n",
              "      <td>1</td>\n",
              "      <td>1</td>\n",
              "      <td>UEFA Euro qualification</td>\n",
              "      <td>Düsseldorf</td>\n",
              "      <td>False</td>\n",
              "    </tr>\n",
              "    <tr>\n",
              "      <th>4</th>\n",
              "      <td>1</td>\n",
              "      <td>Germany</td>\n",
              "      <td>1994-02-15</td>\n",
              "      <td>1995-09-06</td>\n",
              "      <td>Germany</td>\n",
              "      <td>Georgia</td>\n",
              "      <td>4</td>\n",
              "      <td>1</td>\n",
              "      <td>UEFA Euro qualification</td>\n",
              "      <td>Nuremberg</td>\n",
              "      <td>False</td>\n",
              "    </tr>\n",
              "  </tbody>\n",
              "</table>\n",
              "</div>"
            ],
            "text/plain": [
              "   rank  country  rank_date  ...               tournament            city neutral\n",
              "0     1  Germany 1994-02-15  ...                 Friendly       Stuttgart   False\n",
              "1     1  Germany 1994-02-15  ...                 Friendly         Hanover   False\n",
              "2     1  Germany 1994-02-15  ...  UEFA Euro qualification  Kaiserslautern   False\n",
              "3     1  Germany 1994-02-15  ...  UEFA Euro qualification      Düsseldorf   False\n",
              "4     1  Germany 1994-02-15  ...  UEFA Euro qualification       Nuremberg   False\n",
              "\n",
              "[5 rows x 11 columns]"
            ]
          },
          "metadata": {},
          "execution_count": 24
        }
      ]
    },
    {
      "cell_type": "code",
      "metadata": {
        "colab": {
          "base_uri": "https://localhost:8080/",
          "height": 0
        },
        "id": "Lq_Mfu2Ox0wQ",
        "outputId": "b17116b9-1232-4b6c-d144-86ffc8e89314"
      },
      "source": [
        "gamedf.tail()"
      ],
      "execution_count": 25,
      "outputs": [
        {
          "output_type": "execute_result",
          "data": {
            "text/html": [
              "<div>\n",
              "<style scoped>\n",
              "    .dataframe tbody tr th:only-of-type {\n",
              "        vertical-align: middle;\n",
              "    }\n",
              "\n",
              "    .dataframe tbody tr th {\n",
              "        vertical-align: top;\n",
              "    }\n",
              "\n",
              "    .dataframe thead th {\n",
              "        text-align: right;\n",
              "    }\n",
              "</style>\n",
              "<table border=\"1\" class=\"dataframe\">\n",
              "  <thead>\n",
              "    <tr style=\"text-align: right;\">\n",
              "      <th></th>\n",
              "      <th>rank</th>\n",
              "      <th>country</th>\n",
              "      <th>rank_date</th>\n",
              "      <th>date</th>\n",
              "      <th>home_team</th>\n",
              "      <th>away_team</th>\n",
              "      <th>home_score</th>\n",
              "      <th>away_score</th>\n",
              "      <th>tournament</th>\n",
              "      <th>city</th>\n",
              "      <th>neutral</th>\n",
              "    </tr>\n",
              "  </thead>\n",
              "  <tbody>\n",
              "    <tr>\n",
              "      <th>5183855</th>\n",
              "      <td>206</td>\n",
              "      <td>Gibraltar</td>\n",
              "      <td>2017-12-21</td>\n",
              "      <td>2011-03-11</td>\n",
              "      <td>Gibraltar</td>\n",
              "      <td>Faroe Islands</td>\n",
              "      <td>3</td>\n",
              "      <td>0</td>\n",
              "      <td>Friendly</td>\n",
              "      <td>Gibraltar</td>\n",
              "      <td>False</td>\n",
              "    </tr>\n",
              "    <tr>\n",
              "      <th>5183856</th>\n",
              "      <td>206</td>\n",
              "      <td>Gibraltar</td>\n",
              "      <td>2017-12-21</td>\n",
              "      <td>2014-03-01</td>\n",
              "      <td>Gibraltar</td>\n",
              "      <td>Faroe Islands</td>\n",
              "      <td>1</td>\n",
              "      <td>4</td>\n",
              "      <td>Friendly</td>\n",
              "      <td>Gibraltar</td>\n",
              "      <td>False</td>\n",
              "    </tr>\n",
              "    <tr>\n",
              "      <th>5183857</th>\n",
              "      <td>206</td>\n",
              "      <td>Gibraltar</td>\n",
              "      <td>2017-12-21</td>\n",
              "      <td>2014-03-05</td>\n",
              "      <td>Gibraltar</td>\n",
              "      <td>Estonia</td>\n",
              "      <td>0</td>\n",
              "      <td>2</td>\n",
              "      <td>Friendly</td>\n",
              "      <td>Gibraltar</td>\n",
              "      <td>False</td>\n",
              "    </tr>\n",
              "    <tr>\n",
              "      <th>5183858</th>\n",
              "      <td>206</td>\n",
              "      <td>Gibraltar</td>\n",
              "      <td>2017-12-21</td>\n",
              "      <td>2016-03-23</td>\n",
              "      <td>Gibraltar</td>\n",
              "      <td>Liechtenstein</td>\n",
              "      <td>0</td>\n",
              "      <td>0</td>\n",
              "      <td>Friendly</td>\n",
              "      <td>Gibraltar</td>\n",
              "      <td>False</td>\n",
              "    </tr>\n",
              "    <tr>\n",
              "      <th>5183859</th>\n",
              "      <td>206</td>\n",
              "      <td>Gibraltar</td>\n",
              "      <td>2017-12-21</td>\n",
              "      <td>2016-03-29</td>\n",
              "      <td>Gibraltar</td>\n",
              "      <td>Latvia</td>\n",
              "      <td>0</td>\n",
              "      <td>5</td>\n",
              "      <td>Friendly</td>\n",
              "      <td>Gibraltar</td>\n",
              "      <td>False</td>\n",
              "    </tr>\n",
              "  </tbody>\n",
              "</table>\n",
              "</div>"
            ],
            "text/plain": [
              "         rank    country  rank_date  ... tournament       city neutral\n",
              "5183855   206  Gibraltar 2017-12-21  ...   Friendly  Gibraltar   False\n",
              "5183856   206  Gibraltar 2017-12-21  ...   Friendly  Gibraltar   False\n",
              "5183857   206  Gibraltar 2017-12-21  ...   Friendly  Gibraltar   False\n",
              "5183858   206  Gibraltar 2017-12-21  ...   Friendly  Gibraltar   False\n",
              "5183859   206  Gibraltar 2017-12-21  ...   Friendly  Gibraltar   False\n",
              "\n",
              "[5 rows x 11 columns]"
            ]
          },
          "metadata": {},
          "execution_count": 25
        }
      ]
    },
    {
      "cell_type": "code",
      "metadata": {
        "id": "DZu8q3HW-Ma1"
      },
      "source": [
        "#dropping unnecessary columns\n",
        "gamedf.drop(['rank_date',\t'date'],axis=1,inplace=True)"
      ],
      "execution_count": 26,
      "outputs": []
    },
    {
      "cell_type": "code",
      "metadata": {
        "colab": {
          "base_uri": "https://localhost:8080/"
        },
        "id": "wf_bkAa9RCJP",
        "outputId": "73e1cca8-f020-4b58-b94f-288a2220ac73"
      },
      "source": [
        "gamedf.isnull().any()"
      ],
      "execution_count": 27,
      "outputs": [
        {
          "output_type": "execute_result",
          "data": {
            "text/plain": [
              "rank          False\n",
              "country       False\n",
              "home_team     False\n",
              "away_team     False\n",
              "home_score    False\n",
              "away_score    False\n",
              "tournament    False\n",
              "city          False\n",
              "neutral       False\n",
              "dtype: bool"
            ]
          },
          "metadata": {},
          "execution_count": 27
        }
      ]
    },
    {
      "cell_type": "markdown",
      "metadata": {
        "id": "5dnDydVByclP"
      },
      "source": [
        "## **5. Feature engineering**"
      ]
    },
    {
      "cell_type": "code",
      "metadata": {
        "id": "EezjiScjD8oO"
      },
      "source": [
        "#calculating the wins,losses and draw games to determine which outcomethe home team had in a specific game\n",
        "gamedf['outcome'] = gamedf['home_score'] - gamedf['away_score']\n",
        "def outcome(x):\n",
        "  if x >0:\n",
        "    return 'win'\n",
        "  elif x<0:\n",
        "    return 'loss'\n",
        "  else:\n",
        "    return 'draw'\n",
        "\n",
        "gamedf['outcome']=gamedf.outcome.apply(lambda x: outcome(x))\n"
      ],
      "execution_count": 28,
      "outputs": []
    },
    {
      "cell_type": "code",
      "metadata": {
        "colab": {
          "base_uri": "https://localhost:8080/",
          "height": 0
        },
        "id": "1CXoPFHHAb6I",
        "outputId": "e3e23cca-43f7-4462-b059-bf5a96961664"
      },
      "source": [
        "#gamedf.columns=[['home_team_rank','country','home_team',\t'away_team',\t'home_score',\t'away_score',\t'tournament',\t'city',\t'neutral',\t'outcome']]\n",
        "\n",
        "gamedf.head()\n"
      ],
      "execution_count": 29,
      "outputs": [
        {
          "output_type": "execute_result",
          "data": {
            "text/html": [
              "<div>\n",
              "<style scoped>\n",
              "    .dataframe tbody tr th:only-of-type {\n",
              "        vertical-align: middle;\n",
              "    }\n",
              "\n",
              "    .dataframe tbody tr th {\n",
              "        vertical-align: top;\n",
              "    }\n",
              "\n",
              "    .dataframe thead th {\n",
              "        text-align: right;\n",
              "    }\n",
              "</style>\n",
              "<table border=\"1\" class=\"dataframe\">\n",
              "  <thead>\n",
              "    <tr style=\"text-align: right;\">\n",
              "      <th></th>\n",
              "      <th>rank</th>\n",
              "      <th>country</th>\n",
              "      <th>home_team</th>\n",
              "      <th>away_team</th>\n",
              "      <th>home_score</th>\n",
              "      <th>away_score</th>\n",
              "      <th>tournament</th>\n",
              "      <th>city</th>\n",
              "      <th>neutral</th>\n",
              "      <th>outcome</th>\n",
              "    </tr>\n",
              "  </thead>\n",
              "  <tbody>\n",
              "    <tr>\n",
              "      <th>0</th>\n",
              "      <td>1</td>\n",
              "      <td>Germany</td>\n",
              "      <td>Germany</td>\n",
              "      <td>Italy</td>\n",
              "      <td>2</td>\n",
              "      <td>1</td>\n",
              "      <td>Friendly</td>\n",
              "      <td>Stuttgart</td>\n",
              "      <td>False</td>\n",
              "      <td>win</td>\n",
              "    </tr>\n",
              "    <tr>\n",
              "      <th>1</th>\n",
              "      <td>1</td>\n",
              "      <td>Germany</td>\n",
              "      <td>Germany</td>\n",
              "      <td>Republic of Ireland</td>\n",
              "      <td>0</td>\n",
              "      <td>2</td>\n",
              "      <td>Friendly</td>\n",
              "      <td>Hanover</td>\n",
              "      <td>False</td>\n",
              "      <td>loss</td>\n",
              "    </tr>\n",
              "    <tr>\n",
              "      <th>2</th>\n",
              "      <td>1</td>\n",
              "      <td>Germany</td>\n",
              "      <td>Germany</td>\n",
              "      <td>Albania</td>\n",
              "      <td>2</td>\n",
              "      <td>1</td>\n",
              "      <td>UEFA Euro qualification</td>\n",
              "      <td>Kaiserslautern</td>\n",
              "      <td>False</td>\n",
              "      <td>win</td>\n",
              "    </tr>\n",
              "    <tr>\n",
              "      <th>3</th>\n",
              "      <td>1</td>\n",
              "      <td>Germany</td>\n",
              "      <td>Germany</td>\n",
              "      <td>Wales</td>\n",
              "      <td>1</td>\n",
              "      <td>1</td>\n",
              "      <td>UEFA Euro qualification</td>\n",
              "      <td>Düsseldorf</td>\n",
              "      <td>False</td>\n",
              "      <td>draw</td>\n",
              "    </tr>\n",
              "    <tr>\n",
              "      <th>4</th>\n",
              "      <td>1</td>\n",
              "      <td>Germany</td>\n",
              "      <td>Germany</td>\n",
              "      <td>Georgia</td>\n",
              "      <td>4</td>\n",
              "      <td>1</td>\n",
              "      <td>UEFA Euro qualification</td>\n",
              "      <td>Nuremberg</td>\n",
              "      <td>False</td>\n",
              "      <td>win</td>\n",
              "    </tr>\n",
              "  </tbody>\n",
              "</table>\n",
              "</div>"
            ],
            "text/plain": [
              "   rank  country home_team  ...            city  neutral  outcome\n",
              "0     1  Germany   Germany  ...       Stuttgart    False      win\n",
              "1     1  Germany   Germany  ...         Hanover    False     loss\n",
              "2     1  Germany   Germany  ...  Kaiserslautern    False      win\n",
              "3     1  Germany   Germany  ...      Düsseldorf    False     draw\n",
              "4     1  Germany   Germany  ...       Nuremberg    False      win\n",
              "\n",
              "[5 rows x 10 columns]"
            ]
          },
          "metadata": {},
          "execution_count": 29
        }
      ]
    },
    {
      "cell_type": "markdown",
      "metadata": {
        "id": "rF2ABPsHUtbZ"
      },
      "source": [
        "## **6. Exploratory Data Analysis**"
      ]
    },
    {
      "cell_type": "markdown",
      "metadata": {
        "id": "6n-idr8XFnIK"
      },
      "source": [
        "**Univariate Analysis**"
      ]
    },
    {
      "cell_type": "code",
      "metadata": {
        "colab": {
          "base_uri": "https://localhost:8080/",
          "height": 296
        },
        "id": "Suc-Z9DRIbla",
        "outputId": "d632ba2d-0e74-4f8f-93ac-b0afa56c82a5"
      },
      "source": [
        "#Describing the numerical data\n",
        "gamedf.describe()"
      ],
      "execution_count": 30,
      "outputs": [
        {
          "output_type": "execute_result",
          "data": {
            "text/html": [
              "<div>\n",
              "<style scoped>\n",
              "    .dataframe tbody tr th:only-of-type {\n",
              "        vertical-align: middle;\n",
              "    }\n",
              "\n",
              "    .dataframe tbody tr th {\n",
              "        vertical-align: top;\n",
              "    }\n",
              "\n",
              "    .dataframe thead th {\n",
              "        text-align: right;\n",
              "    }\n",
              "</style>\n",
              "<table border=\"1\" class=\"dataframe\">\n",
              "  <thead>\n",
              "    <tr style=\"text-align: right;\">\n",
              "      <th></th>\n",
              "      <th>rank</th>\n",
              "      <th>home_score</th>\n",
              "      <th>away_score</th>\n",
              "    </tr>\n",
              "  </thead>\n",
              "  <tbody>\n",
              "    <tr>\n",
              "      <th>count</th>\n",
              "      <td>5.183860e+06</td>\n",
              "      <td>5.183860e+06</td>\n",
              "      <td>5.183860e+06</td>\n",
              "    </tr>\n",
              "    <tr>\n",
              "      <th>mean</th>\n",
              "      <td>7.594264e+01</td>\n",
              "      <td>1.648417e+00</td>\n",
              "      <td>1.088505e+00</td>\n",
              "    </tr>\n",
              "    <tr>\n",
              "      <th>std</th>\n",
              "      <td>5.123562e+01</td>\n",
              "      <td>1.692600e+00</td>\n",
              "      <td>1.324070e+00</td>\n",
              "    </tr>\n",
              "    <tr>\n",
              "      <th>min</th>\n",
              "      <td>1.000000e+00</td>\n",
              "      <td>0.000000e+00</td>\n",
              "      <td>0.000000e+00</td>\n",
              "    </tr>\n",
              "    <tr>\n",
              "      <th>25%</th>\n",
              "      <td>3.200000e+01</td>\n",
              "      <td>0.000000e+00</td>\n",
              "      <td>0.000000e+00</td>\n",
              "    </tr>\n",
              "    <tr>\n",
              "      <th>50%</th>\n",
              "      <td>7.000000e+01</td>\n",
              "      <td>1.000000e+00</td>\n",
              "      <td>1.000000e+00</td>\n",
              "    </tr>\n",
              "    <tr>\n",
              "      <th>75%</th>\n",
              "      <td>1.130000e+02</td>\n",
              "      <td>2.000000e+00</td>\n",
              "      <td>2.000000e+00</td>\n",
              "    </tr>\n",
              "    <tr>\n",
              "      <th>max</th>\n",
              "      <td>2.090000e+02</td>\n",
              "      <td>3.100000e+01</td>\n",
              "      <td>2.100000e+01</td>\n",
              "    </tr>\n",
              "  </tbody>\n",
              "</table>\n",
              "</div>"
            ],
            "text/plain": [
              "               rank    home_score    away_score\n",
              "count  5.183860e+06  5.183860e+06  5.183860e+06\n",
              "mean   7.594264e+01  1.648417e+00  1.088505e+00\n",
              "std    5.123562e+01  1.692600e+00  1.324070e+00\n",
              "min    1.000000e+00  0.000000e+00  0.000000e+00\n",
              "25%    3.200000e+01  0.000000e+00  0.000000e+00\n",
              "50%    7.000000e+01  1.000000e+00  1.000000e+00\n",
              "75%    1.130000e+02  2.000000e+00  2.000000e+00\n",
              "max    2.090000e+02  3.100000e+01  2.100000e+01"
            ]
          },
          "metadata": {},
          "execution_count": 30
        }
      ]
    },
    {
      "cell_type": "code",
      "metadata": {
        "id": "V3o_lCGeFvi_"
      },
      "source": [
        "def pie(column):\n",
        "  data=gamedf[column].value_counts()\n",
        "  plot=plt.pie(data ,labels=['True','False'], autopct = '%1.1f%%', shadow = True, startangle = 140)\n",
        "  plt.axis('equal')\n",
        "  plt.title(f'{column}')\n",
        "  plt.show()\n",
        "  return plot\n",
        "#The dataset features more games on neutral games"
      ],
      "execution_count": 31,
      "outputs": []
    },
    {
      "cell_type": "code",
      "metadata": {
        "colab": {
          "base_uri": "https://localhost:8080/",
          "height": 375
        },
        "id": "Ib7UEmbAbkVK",
        "outputId": "6efaaf38-c45f-4918-a16c-df60e16f56dc"
      },
      "source": [
        "pie('neutral')"
      ],
      "execution_count": 32,
      "outputs": [
        {
          "output_type": "display_data",
          "data": {
            "image/png": "[encoded data removed]",
            "text/plain": [
              "<Figure size 432x288 with 1 Axes>"
            ]
          },
          "metadata": {}
        },
        {
          "output_type": "execute_result",
          "data": {
            "text/plain": [
              "([<matplotlib.patches.Wedge at 0x7f1f698ddc50>,\n",
              "  <matplotlib.patches.Wedge at 0x7f1f698e96d0>],\n",
              " [Text(0.10749615455899739, -1.0947349344727373, 'True'),\n",
              "  Text(-0.10749620580723848, 1.0947349294404778, 'False')],\n",
              " [Text(0.058634266123089473, -0.5971281460760384, '75.3%'),\n",
              "  Text(-0.05863429407667553, 0.5971281433311697, '24.7%')])"
            ]
          },
          "metadata": {},
          "execution_count": 32
        }
      ]
    },
    {
      "cell_type": "code",
      "metadata": {
        "colab": {
          "base_uri": "https://localhost:8080/",
          "height": 264
        },
        "id": "vzDttxaPaAZg",
        "outputId": "5565d7c8-aa98-4203-baa5-aa232766aa40"
      },
      "source": [
        "outcomepie=gamedf['outcome'].value_counts()\n",
        "plt.pie(outcomepie ,labels=['wins','losses','draws'], autopct = '%1.1f%%', shadow = True, startangle = 140)\n",
        "plt.axis('equal')\n",
        "plt.title('Game Outcomes over the Years')\n",
        "plt.show()"
      ],
      "execution_count": 34,
      "outputs": [
        {
          "output_type": "display_data",
          "data": {
            "image/png": "[encoded data removed]",
            "text/plain": [
              "<Figure size 432x288 with 1 Axes>"
            ]
          },
          "metadata": {}
        }
      ]
    },
    {
      "cell_type": "code",
      "metadata": {
        "colab": {
          "base_uri": "https://localhost:8080/"
        },
        "id": "3AJIJlpsIbXL",
        "outputId": "6dbc19dc-4333-4b05-830f-81590acb7210"
      },
      "source": [
        "#The number outcomes of home_teamsplayed between 1993 and 2018\n",
        "gamedf['outcome'].value_counts()"
      ],
      "execution_count": 35,
      "outputs": [
        {
          "output_type": "execute_result",
          "data": {
            "text/plain": [
              "win     2524940\n",
              "loss    1425900\n",
              "draw    1233020\n",
              "Name: outcome, dtype: int64"
            ]
          },
          "metadata": {},
          "execution_count": 35
        }
      ]
    },
    {
      "cell_type": "code",
      "metadata": {
        "colab": {
          "base_uri": "https://localhost:8080/",
          "height": 335
        },
        "id": "MuxyUaFHIbwC",
        "outputId": "ce355a0e-c91e-4003-b6ca-b23bb80f9ebd"
      },
      "source": [
        "from statsmodels.graphics.gofplots import qqplot\n",
        "from matplotlib import pyplot\n",
        "qqplot(gamedf['home_score'], line='s')\n",
        "plt.show()\n",
        "#This shows that this data is normaly distributed as discreet data and is also good for polynominal regression"
      ],
      "execution_count": 36,
      "outputs": [
        {
          "output_type": "stream",
          "name": "stderr",
          "text": [
            "/usr/local/lib/python3.7/dist-packages/statsmodels/tools/_testing.py:19: FutureWarning: pandas.util.testing is deprecated. Use the functions in the public API at pandas.testing instead.\n",
            "  import pandas.util.testing as tm\n"
          ]
        },
        {
          "output_type": "display_data",
          "data": {
            "image/png": "[encoded data removed]",
            "text/plain": [
              "<Figure size 432x288 with 1 Axes>"
            ]
          },
          "metadata": {
            "needs_background": "light"
          }
        }
      ]
    },
    {
      "cell_type": "code",
      "metadata": {
        "colab": {
          "base_uri": "https://localhost:8080/",
          "height": 279
        },
        "id": "TZLn8S2LcMu6",
        "outputId": "bc5ef131-f0bc-43bf-83e0-b8d4ccf716b3"
      },
      "source": [
        "qqplot(gamedf['away_score'],line='s')\n",
        "plt.show()\n",
        "#This shows that this data is normaly distributed as discreet data and is also good for polynominal regression"
      ],
      "execution_count": 37,
      "outputs": [
        {
          "output_type": "display_data",
          "data": {
            "image/png": "[encoded data removed]",
            "text/plain": [
              "<Figure size 432x288 with 1 Axes>"
            ]
          },
          "metadata": {
            "needs_background": "light"
          }
        }
      ]
    },
    {
      "cell_type": "code",
      "metadata": {
        "id": "5nnRToniXGDK",
        "colab": {
          "base_uri": "https://localhost:8080/",
          "height": 297
        },
        "outputId": "b8567413-88b9-431f-d618-ce3aa461983f"
      },
      "source": [
        "qqplot(gamedf['rank'],line='s')\n",
        "plt.show"
      ],
      "execution_count": 38,
      "outputs": [
        {
          "output_type": "execute_result",
          "data": {
            "text/plain": [
              "<function matplotlib.pyplot.show>"
            ]
          },
          "metadata": {},
          "execution_count": 38
        },
        {
          "output_type": "display_data",
          "data": {
            "image/png": "[encoded data removed]",
            "text/plain": [
              "<Figure size 432x288 with 1 Axes>"
            ]
          },
          "metadata": {
            "needs_background": "light"
          }
        }
      ]
    },
    {
      "cell_type": "markdown",
      "metadata": {
        "id": "o3VgYO7VJ7Hi"
      },
      "source": [
        "**Bivariate Analysis**"
      ]
    },
    {
      "cell_type": "code",
      "metadata": {
        "id": "K9TygzdDKEDl"
      },
      "source": [
        "def visual(df,var1,var2):\n",
        "  viz=df.groupby([var1,var2])[var2].count().unstack().plot(figsize=(10,7),color=['green','blue','orange'],kind= 'bar')\n",
        "  return viz"
      ],
      "execution_count": 39,
      "outputs": []
    },
    {
      "cell_type": "code",
      "metadata": {
        "colab": {
          "base_uri": "https://localhost:8080/",
          "height": 487
        },
        "id": "EEnMQK7XKeXz",
        "outputId": "7e3908e2-1606-47a3-e263-87b16f806aed"
      },
      "source": [
        "visual(gamedf, 'neutral','outcome')"
      ],
      "execution_count": 40,
      "outputs": [
        {
          "output_type": "execute_result",
          "data": {
            "text/plain": [
              "<matplotlib.axes._subplots.AxesSubplot at 0x7f1f69482fd0>"
            ]
          },
          "metadata": {},
          "execution_count": 40
        },
        {
          "output_type": "display_data",
          "data": {
            "image/png": "[encoded data removed]",
            "text/plain": [
              "<Figure size 720x504 with 1 Axes>"
            ]
          },
          "metadata": {
            "needs_background": "light"
          }
        }
      ]
    },
    {
      "cell_type": "markdown",
      "metadata": {
        "id": "bxPnMtEzfCeD"
      },
      "source": [
        "**Multivariate analysis**"
      ]
    },
    {
      "cell_type": "code",
      "metadata": {
        "colab": {
          "base_uri": "https://localhost:8080/",
          "height": 270
        },
        "id": "50haIV8SfIrV",
        "outputId": "bceae548-0afd-473b-b0f2-6b83d4625c80"
      },
      "source": [
        "sns.heatmap(gamedf.corr(),annot=True)\n",
        "plt.show()"
      ],
      "execution_count": 41,
      "outputs": [
        {
          "output_type": "display_data",
          "data": {
            "image/png": "[encoded data removed]",
            "text/plain": [
              "<Figure size 432x288 with 2 Axes>"
            ]
          },
          "metadata": {
            "needs_background": "light"
          }
        }
      ]
    },
    {
      "cell_type": "code",
      "metadata": {
        "colab": {
          "base_uri": "https://localhost:8080/",
          "height": 204
        },
        "id": "_oP8avuLNUY2",
        "outputId": "49d26b3c-a5ea-49bd-bbf9-3b34b0669575"
      },
      "source": [
        "#encoding outcomes(win, loss and draw)as ordinal numerical data\n",
        "gamedf['outcome']=gamedf['outcome'].astype('category')\n",
        "gamedf['outcomes'] = gamedf['outcome'].cat.codes\n",
        "gamedf.head()"
      ],
      "execution_count": 42,
      "outputs": [
        {
          "output_type": "execute_result",
          "data": {
            "text/html": [
              "<div>\n",
              "<style scoped>\n",
              "    .dataframe tbody tr th:only-of-type {\n",
              "        vertical-align: middle;\n",
              "    }\n",
              "\n",
              "    .dataframe tbody tr th {\n",
              "        vertical-align: top;\n",
              "    }\n",
              "\n",
              "    .dataframe thead th {\n",
              "        text-align: right;\n",
              "    }\n",
              "</style>\n",
              "<table border=\"1\" class=\"dataframe\">\n",
              "  <thead>\n",
              "    <tr style=\"text-align: right;\">\n",
              "      <th></th>\n",
              "      <th>rank</th>\n",
              "      <th>country</th>\n",
              "      <th>home_team</th>\n",
              "      <th>away_team</th>\n",
              "      <th>home_score</th>\n",
              "      <th>away_score</th>\n",
              "      <th>tournament</th>\n",
              "      <th>city</th>\n",
              "      <th>neutral</th>\n",
              "      <th>outcome</th>\n",
              "      <th>outcomes</th>\n",
              "    </tr>\n",
              "  </thead>\n",
              "  <tbody>\n",
              "    <tr>\n",
              "      <th>0</th>\n",
              "      <td>1</td>\n",
              "      <td>Germany</td>\n",
              "      <td>Germany</td>\n",
              "      <td>Italy</td>\n",
              "      <td>2</td>\n",
              "      <td>1</td>\n",
              "      <td>Friendly</td>\n",
              "      <td>Stuttgart</td>\n",
              "      <td>False</td>\n",
              "      <td>win</td>\n",
              "      <td>2</td>\n",
              "    </tr>\n",
              "    <tr>\n",
              "      <th>1</th>\n",
              "      <td>1</td>\n",
              "      <td>Germany</td>\n",
              "      <td>Germany</td>\n",
              "      <td>Republic of Ireland</td>\n",
              "      <td>0</td>\n",
              "      <td>2</td>\n",
              "      <td>Friendly</td>\n",
              "      <td>Hanover</td>\n",
              "      <td>False</td>\n",
              "      <td>loss</td>\n",
              "      <td>1</td>\n",
              "    </tr>\n",
              "    <tr>\n",
              "      <th>2</th>\n",
              "      <td>1</td>\n",
              "      <td>Germany</td>\n",
              "      <td>Germany</td>\n",
              "      <td>Albania</td>\n",
              "      <td>2</td>\n",
              "      <td>1</td>\n",
              "      <td>UEFA Euro qualification</td>\n",
              "      <td>Kaiserslautern</td>\n",
              "      <td>False</td>\n",
              "      <td>win</td>\n",
              "      <td>2</td>\n",
              "    </tr>\n",
              "    <tr>\n",
              "      <th>3</th>\n",
              "      <td>1</td>\n",
              "      <td>Germany</td>\n",
              "      <td>Germany</td>\n",
              "      <td>Wales</td>\n",
              "      <td>1</td>\n",
              "      <td>1</td>\n",
              "      <td>UEFA Euro qualification</td>\n",
              "      <td>Düsseldorf</td>\n",
              "      <td>False</td>\n",
              "      <td>draw</td>\n",
              "      <td>0</td>\n",
              "    </tr>\n",
              "    <tr>\n",
              "      <th>4</th>\n",
              "      <td>1</td>\n",
              "      <td>Germany</td>\n",
              "      <td>Germany</td>\n",
              "      <td>Georgia</td>\n",
              "      <td>4</td>\n",
              "      <td>1</td>\n",
              "      <td>UEFA Euro qualification</td>\n",
              "      <td>Nuremberg</td>\n",
              "      <td>False</td>\n",
              "      <td>win</td>\n",
              "      <td>2</td>\n",
              "    </tr>\n",
              "  </tbody>\n",
              "</table>\n",
              "</div>"
            ],
            "text/plain": [
              "   rank  country home_team  ... neutral  outcome  outcomes\n",
              "0     1  Germany   Germany  ...   False      win         2\n",
              "1     1  Germany   Germany  ...   False     loss         1\n",
              "2     1  Germany   Germany  ...   False      win         2\n",
              "3     1  Germany   Germany  ...   False     draw         0\n",
              "4     1  Germany   Germany  ...   False      win         2\n",
              "\n",
              "[5 rows x 11 columns]"
            ]
          },
          "metadata": {},
          "execution_count": 42
        }
      ]
    },
    {
      "cell_type": "code",
      "metadata": {
        "id": "tDWPMSP8rYQW"
      },
      "source": [
        "#transforming objects to numerical dtypes\n",
        "gamedf['tournament'] =le.fit_transform(gamedf['tournament'])\n",
        "gamedf['home_team'] =le.fit_transform(gamedf['home_team'])\n",
        "gamedf['away_team'] =le.fit_transform(gamedf['away_team'])"
      ],
      "execution_count": 43,
      "outputs": []
    },
    {
      "cell_type": "code",
      "metadata": {
        "colab": {
          "base_uri": "https://localhost:8080/"
        },
        "id": "Kyb-xYCX3Ybr",
        "outputId": "53298cf8-e23e-47ff-a910-eff4a25dfd62"
      },
      "source": [
        "gamedf.dtypes"
      ],
      "execution_count": 44,
      "outputs": [
        {
          "output_type": "execute_result",
          "data": {
            "text/plain": [
              "rank             int64\n",
              "country         object\n",
              "home_team        int64\n",
              "away_team        int64\n",
              "home_score       int64\n",
              "away_score       int64\n",
              "tournament       int64\n",
              "city            object\n",
              "neutral           bool\n",
              "outcome       category\n",
              "outcomes          int8\n",
              "dtype: object"
            ]
          },
          "metadata": {},
          "execution_count": 44
        }
      ]
    },
    {
      "cell_type": "code",
      "metadata": {
        "colab": {
          "base_uri": "https://localhost:8080/",
          "height": 418
        },
        "id": "mhPXnKqY3V7d",
        "outputId": "ac4093d2-168b-4513-8bfb-597cb33308d2"
      },
      "source": [
        "gamedf.head(700)"
      ],
      "execution_count": 45,
      "outputs": [
        {
          "output_type": "execute_result",
          "data": {
            "text/html": [
              "<div>\n",
              "<style scoped>\n",
              "    .dataframe tbody tr th:only-of-type {\n",
              "        vertical-align: middle;\n",
              "    }\n",
              "\n",
              "    .dataframe tbody tr th {\n",
              "        vertical-align: top;\n",
              "    }\n",
              "\n",
              "    .dataframe thead th {\n",
              "        text-align: right;\n",
              "    }\n",
              "</style>\n",
              "<table border=\"1\" class=\"dataframe\">\n",
              "  <thead>\n",
              "    <tr style=\"text-align: right;\">\n",
              "      <th></th>\n",
              "      <th>rank</th>\n",
              "      <th>country</th>\n",
              "      <th>home_team</th>\n",
              "      <th>away_team</th>\n",
              "      <th>home_score</th>\n",
              "      <th>away_score</th>\n",
              "      <th>tournament</th>\n",
              "      <th>city</th>\n",
              "      <th>neutral</th>\n",
              "      <th>outcome</th>\n",
              "      <th>outcomes</th>\n",
              "    </tr>\n",
              "  </thead>\n",
              "  <tbody>\n",
              "    <tr>\n",
              "      <th>0</th>\n",
              "      <td>1</td>\n",
              "      <td>Germany</td>\n",
              "      <td>97</td>\n",
              "      <td>122</td>\n",
              "      <td>2</td>\n",
              "      <td>1</td>\n",
              "      <td>30</td>\n",
              "      <td>Stuttgart</td>\n",
              "      <td>False</td>\n",
              "      <td>win</td>\n",
              "      <td>2</td>\n",
              "    </tr>\n",
              "    <tr>\n",
              "      <th>1</th>\n",
              "      <td>1</td>\n",
              "      <td>Germany</td>\n",
              "      <td>97</td>\n",
              "      <td>196</td>\n",
              "      <td>0</td>\n",
              "      <td>2</td>\n",
              "      <td>30</td>\n",
              "      <td>Hanover</td>\n",
              "      <td>False</td>\n",
              "      <td>loss</td>\n",
              "      <td>1</td>\n",
              "    </tr>\n",
              "    <tr>\n",
              "      <th>2</th>\n",
              "      <td>1</td>\n",
              "      <td>Germany</td>\n",
              "      <td>97</td>\n",
              "      <td>2</td>\n",
              "      <td>2</td>\n",
              "      <td>1</td>\n",
              "      <td>58</td>\n",
              "      <td>Kaiserslautern</td>\n",
              "      <td>False</td>\n",
              "      <td>win</td>\n",
              "      <td>2</td>\n",
              "    </tr>\n",
              "    <tr>\n",
              "      <th>3</th>\n",
              "      <td>1</td>\n",
              "      <td>Germany</td>\n",
              "      <td>97</td>\n",
              "      <td>265</td>\n",
              "      <td>1</td>\n",
              "      <td>1</td>\n",
              "      <td>58</td>\n",
              "      <td>Düsseldorf</td>\n",
              "      <td>False</td>\n",
              "      <td>draw</td>\n",
              "      <td>0</td>\n",
              "    </tr>\n",
              "    <tr>\n",
              "      <th>4</th>\n",
              "      <td>1</td>\n",
              "      <td>Germany</td>\n",
              "      <td>97</td>\n",
              "      <td>92</td>\n",
              "      <td>4</td>\n",
              "      <td>1</td>\n",
              "      <td>58</td>\n",
              "      <td>Nuremberg</td>\n",
              "      <td>False</td>\n",
              "      <td>win</td>\n",
              "      <td>2</td>\n",
              "    </tr>\n",
              "    <tr>\n",
              "      <th>...</th>\n",
              "      <td>...</td>\n",
              "      <td>...</td>\n",
              "      <td>...</td>\n",
              "      <td>...</td>\n",
              "      <td>...</td>\n",
              "      <td>...</td>\n",
              "      <td>...</td>\n",
              "      <td>...</td>\n",
              "      <td>...</td>\n",
              "      <td>...</td>\n",
              "      <td>...</td>\n",
              "    </tr>\n",
              "    <tr>\n",
              "      <th>695</th>\n",
              "      <td>2</td>\n",
              "      <td>Germany</td>\n",
              "      <td>196</td>\n",
              "      <td>87</td>\n",
              "      <td>0</td>\n",
              "      <td>1</td>\n",
              "      <td>27</td>\n",
              "      <td>Munich</td>\n",
              "      <td>True</td>\n",
              "      <td>loss</td>\n",
              "      <td>1</td>\n",
              "    </tr>\n",
              "    <tr>\n",
              "      <th>696</th>\n",
              "      <td>2</td>\n",
              "      <td>Germany</td>\n",
              "      <td>97</td>\n",
              "      <td>191</td>\n",
              "      <td>3</td>\n",
              "      <td>1</td>\n",
              "      <td>27</td>\n",
              "      <td>Stuttgart</td>\n",
              "      <td>False</td>\n",
              "      <td>win</td>\n",
              "      <td>2</td>\n",
              "    </tr>\n",
              "    <tr>\n",
              "      <th>697</th>\n",
              "      <td>2</td>\n",
              "      <td>Germany</td>\n",
              "      <td>126</td>\n",
              "      <td>87</td>\n",
              "      <td>1</td>\n",
              "      <td>1</td>\n",
              "      <td>27</td>\n",
              "      <td>Berlin</td>\n",
              "      <td>True</td>\n",
              "      <td>draw</td>\n",
              "      <td>0</td>\n",
              "    </tr>\n",
              "    <tr>\n",
              "      <th>698</th>\n",
              "      <td>2</td>\n",
              "      <td>Germany</td>\n",
              "      <td>97</td>\n",
              "      <td>233</td>\n",
              "      <td>3</td>\n",
              "      <td>0</td>\n",
              "      <td>30</td>\n",
              "      <td>Gelsenkirchen</td>\n",
              "      <td>False</td>\n",
              "      <td>win</td>\n",
              "      <td>2</td>\n",
              "    </tr>\n",
              "    <tr>\n",
              "      <th>699</th>\n",
              "      <td>2</td>\n",
              "      <td>Germany</td>\n",
              "      <td>97</td>\n",
              "      <td>196</td>\n",
              "      <td>1</td>\n",
              "      <td>0</td>\n",
              "      <td>58</td>\n",
              "      <td>Stuttgart</td>\n",
              "      <td>False</td>\n",
              "      <td>win</td>\n",
              "      <td>2</td>\n",
              "    </tr>\n",
              "  </tbody>\n",
              "</table>\n",
              "<p>700 rows × 11 columns</p>\n",
              "</div>"
            ],
            "text/plain": [
              "     rank  country  home_team  ...  neutral  outcome  outcomes\n",
              "0       1  Germany         97  ...    False      win         2\n",
              "1       1  Germany         97  ...    False     loss         1\n",
              "2       1  Germany         97  ...    False      win         2\n",
              "3       1  Germany         97  ...    False     draw         0\n",
              "4       1  Germany         97  ...    False      win         2\n",
              "..    ...      ...        ...  ...      ...      ...       ...\n",
              "695     2  Germany        196  ...     True     loss         1\n",
              "696     2  Germany         97  ...    False      win         2\n",
              "697     2  Germany        126  ...     True     draw         0\n",
              "698     2  Germany         97  ...    False      win         2\n",
              "699     2  Germany         97  ...    False      win         2\n",
              "\n",
              "[700 rows x 11 columns]"
            ]
          },
          "metadata": {},
          "execution_count": 45
        }
      ]
    },
    {
      "cell_type": "markdown",
      "metadata": {
        "id": "G_nuWY4lNVLq"
      },
      "source": [
        "## **Regressions**"
      ]
    },
    {
      "cell_type": "markdown",
      "metadata": {
        "id": "lDBp1eupNmLT"
      },
      "source": [
        "### **Polynominal Regression Analysis**"
      ]
    },
    {
      "cell_type": "markdown",
      "metadata": {
        "id": "0kG7gceLN8Yz"
      },
      "source": [
        "**Defining the idependent and dependent variables**"
      ]
    },
    {
      "cell_type": "code",
      "metadata": {
        "colab": {
          "base_uri": "https://localhost:8080/"
        },
        "id": "EQ65gqhesQ84",
        "outputId": "7f970a43-ec4f-4826-b0f9-808e2e54633e"
      },
      "source": [
        "gamedf.columns"
      ],
      "execution_count": 46,
      "outputs": [
        {
          "output_type": "execute_result",
          "data": {
            "text/plain": [
              "Index(['rank', 'country', 'home_team', 'away_team', 'home_score', 'away_score',\n",
              "       'tournament', 'city', 'neutral', 'outcome', 'outcomes'],\n",
              "      dtype='object')"
            ]
          },
          "metadata": {},
          "execution_count": 46
        }
      ]
    },
    {
      "cell_type": "markdown",
      "metadata": {
        "id": "TmjFloc4io2M"
      },
      "source": [
        "**Checking for multicollinearity**"
      ]
    },
    {
      "cell_type": "code",
      "metadata": {
        "colab": {
          "base_uri": "https://localhost:8080/",
          "height": 265
        },
        "id": "jfn6AVTNimCY",
        "outputId": "376470d7-675d-4046-a856-8e9a611d2503"
      },
      "source": [
        "#checking the corriration among the independent variables\n",
        "corr_gamedf=gamedf[['country', 'home_team', 'away_team', 'home_score', 'away_score',\n",
        "       'tournament', 'city', 'neutral', 'outcome', 'outcomes']].corr()\n",
        "corr_gamedf"
      ],
      "execution_count": 47,
      "outputs": [
        {
          "output_type": "execute_result",
          "data": {
            "text/html": [
              "<div>\n",
              "<style scoped>\n",
              "    .dataframe tbody tr th:only-of-type {\n",
              "        vertical-align: middle;\n",
              "    }\n",
              "\n",
              "    .dataframe tbody tr th {\n",
              "        vertical-align: top;\n",
              "    }\n",
              "\n",
              "    .dataframe thead th {\n",
              "        text-align: right;\n",
              "    }\n",
              "</style>\n",
              "<table border=\"1\" class=\"dataframe\">\n",
              "  <thead>\n",
              "    <tr style=\"text-align: right;\">\n",
              "      <th></th>\n",
              "      <th>home_team</th>\n",
              "      <th>away_team</th>\n",
              "      <th>home_score</th>\n",
              "      <th>away_score</th>\n",
              "      <th>tournament</th>\n",
              "      <th>neutral</th>\n",
              "      <th>outcomes</th>\n",
              "    </tr>\n",
              "  </thead>\n",
              "  <tbody>\n",
              "    <tr>\n",
              "      <th>home_team</th>\n",
              "      <td>1.000000</td>\n",
              "      <td>0.000651</td>\n",
              "      <td>0.008782</td>\n",
              "      <td>-0.027208</td>\n",
              "      <td>-0.041773</td>\n",
              "      <td>-0.018269</td>\n",
              "      <td>0.000033</td>\n",
              "    </tr>\n",
              "    <tr>\n",
              "      <th>away_team</th>\n",
              "      <td>0.000651</td>\n",
              "      <td>1.000000</td>\n",
              "      <td>-0.041894</td>\n",
              "      <td>0.023427</td>\n",
              "      <td>-0.014782</td>\n",
              "      <td>0.056762</td>\n",
              "      <td>-0.021861</td>\n",
              "    </tr>\n",
              "    <tr>\n",
              "      <th>home_score</th>\n",
              "      <td>0.008782</td>\n",
              "      <td>-0.041894</td>\n",
              "      <td>1.000000</td>\n",
              "      <td>-0.160979</td>\n",
              "      <td>-0.015206</td>\n",
              "      <td>-0.020634</td>\n",
              "      <td>0.513624</td>\n",
              "    </tr>\n",
              "    <tr>\n",
              "      <th>away_score</th>\n",
              "      <td>-0.027208</td>\n",
              "      <td>0.023427</td>\n",
              "      <td>-0.160979</td>\n",
              "      <td>1.000000</td>\n",
              "      <td>0.020371</td>\n",
              "      <td>0.110906</td>\n",
              "      <td>-0.231081</td>\n",
              "    </tr>\n",
              "    <tr>\n",
              "      <th>tournament</th>\n",
              "      <td>-0.041773</td>\n",
              "      <td>-0.014782</td>\n",
              "      <td>-0.015206</td>\n",
              "      <td>0.020371</td>\n",
              "      <td>1.000000</td>\n",
              "      <td>-0.110295</td>\n",
              "      <td>-0.006441</td>\n",
              "    </tr>\n",
              "    <tr>\n",
              "      <th>neutral</th>\n",
              "      <td>-0.018269</td>\n",
              "      <td>0.056762</td>\n",
              "      <td>-0.020634</td>\n",
              "      <td>0.110906</td>\n",
              "      <td>-0.110295</td>\n",
              "      <td>1.000000</td>\n",
              "      <td>-0.036060</td>\n",
              "    </tr>\n",
              "    <tr>\n",
              "      <th>outcomes</th>\n",
              "      <td>0.000033</td>\n",
              "      <td>-0.021861</td>\n",
              "      <td>0.513624</td>\n",
              "      <td>-0.231081</td>\n",
              "      <td>-0.006441</td>\n",
              "      <td>-0.036060</td>\n",
              "      <td>1.000000</td>\n",
              "    </tr>\n",
              "  </tbody>\n",
              "</table>\n",
              "</div>"
            ],
            "text/plain": [
              "            home_team  away_team  home_score  ...  tournament   neutral  outcomes\n",
              "home_team    1.000000   0.000651    0.008782  ...   -0.041773 -0.018269  0.000033\n",
              "away_team    0.000651   1.000000   -0.041894  ...   -0.014782  0.056762 -0.021861\n",
              "home_score   0.008782  -0.041894    1.000000  ...   -0.015206 -0.020634  0.513624\n",
              "away_score  -0.027208   0.023427   -0.160979  ...    0.020371  0.110906 -0.231081\n",
              "tournament  -0.041773  -0.014782   -0.015206  ...    1.000000 -0.110295 -0.006441\n",
              "neutral     -0.018269   0.056762   -0.020634  ...   -0.110295  1.000000 -0.036060\n",
              "outcomes     0.000033  -0.021861    0.513624  ...   -0.006441 -0.036060  1.000000\n",
              "\n",
              "[7 rows x 7 columns]"
            ]
          },
          "metadata": {},
          "execution_count": 47
        }
      ]
    },
    {
      "cell_type": "code",
      "metadata": {
        "colab": {
          "base_uri": "https://localhost:8080/",
          "height": 265
        },
        "id": "S7H3wMGRjDlH",
        "outputId": "5ecfbcce-7c9d-4fe8-fb00-d1a1aaf18a25"
      },
      "source": [
        "#checking for variance inflation factor in the independent variables. a variable with a VIF > 5 will be dropped\n",
        "pd.DataFrame(np.linalg.inv(corr_gamedf.values), index = corr_gamedf.index, columns=corr_gamedf.columns)\n",
        "#None of the independent variables has a VIF > 5"
      ],
      "execution_count": 48,
      "outputs": [
        {
          "output_type": "execute_result",
          "data": {
            "text/html": [
              "<div>\n",
              "<style scoped>\n",
              "    .dataframe tbody tr th:only-of-type {\n",
              "        vertical-align: middle;\n",
              "    }\n",
              "\n",
              "    .dataframe tbody tr th {\n",
              "        vertical-align: top;\n",
              "    }\n",
              "\n",
              "    .dataframe thead th {\n",
              "        text-align: right;\n",
              "    }\n",
              "</style>\n",
              "<table border=\"1\" class=\"dataframe\">\n",
              "  <thead>\n",
              "    <tr style=\"text-align: right;\">\n",
              "      <th></th>\n",
              "      <th>home_team</th>\n",
              "      <th>away_team</th>\n",
              "      <th>home_score</th>\n",
              "      <th>away_score</th>\n",
              "      <th>tournament</th>\n",
              "      <th>neutral</th>\n",
              "      <th>outcomes</th>\n",
              "    </tr>\n",
              "  </thead>\n",
              "  <tbody>\n",
              "    <tr>\n",
              "      <th>home_team</th>\n",
              "      <td>1.002973</td>\n",
              "      <td>-0.001926</td>\n",
              "      <td>-0.009804</td>\n",
              "      <td>0.025313</td>\n",
              "      <td>0.043558</td>\n",
              "      <td>0.020654</td>\n",
              "      <td>0.011835</td>\n",
              "    </tr>\n",
              "    <tr>\n",
              "      <th>away_team</th>\n",
              "      <td>-0.001926</td>\n",
              "      <td>1.005132</td>\n",
              "      <td>0.041199</td>\n",
              "      <td>-0.012071</td>\n",
              "      <td>0.009672</td>\n",
              "      <td>-0.053973</td>\n",
              "      <td>-0.003861</td>\n",
              "    </tr>\n",
              "    <tr>\n",
              "      <th>home_score</th>\n",
              "      <td>-0.009804</td>\n",
              "      <td>0.041199</td>\n",
              "      <td>1.363852</td>\n",
              "      <td>0.060000</td>\n",
              "      <td>0.014844</td>\n",
              "      <td>-0.004123</td>\n",
              "      <td>-0.685794</td>\n",
              "    </tr>\n",
              "    <tr>\n",
              "      <th>away_score</th>\n",
              "      <td>0.025313</td>\n",
              "      <td>-0.012071</td>\n",
              "      <td>0.060000</td>\n",
              "      <td>1.072849</td>\n",
              "      <td>-0.031088</td>\n",
              "      <td>-0.112363</td>\n",
              "      <td>0.212581</td>\n",
              "    </tr>\n",
              "    <tr>\n",
              "      <th>tournament</th>\n",
              "      <td>0.043558</td>\n",
              "      <td>0.009672</td>\n",
              "      <td>0.014844</td>\n",
              "      <td>-0.031088</td>\n",
              "      <td>1.015577</td>\n",
              "      <td>0.115874</td>\n",
              "      <td>-0.003879</td>\n",
              "    </tr>\n",
              "    <tr>\n",
              "      <th>neutral</th>\n",
              "      <td>0.020654</td>\n",
              "      <td>-0.053973</td>\n",
              "      <td>-0.004123</td>\n",
              "      <td>-0.112363</td>\n",
              "      <td>0.115874</td>\n",
              "      <td>1.029060</td>\n",
              "      <td>0.012826</td>\n",
              "    </tr>\n",
              "    <tr>\n",
              "      <th>outcomes</th>\n",
              "      <td>0.011835</td>\n",
              "      <td>-0.003861</td>\n",
              "      <td>-0.685794</td>\n",
              "      <td>0.212581</td>\n",
              "      <td>-0.003879</td>\n",
              "      <td>0.012826</td>\n",
              "      <td>1.401717</td>\n",
              "    </tr>\n",
              "  </tbody>\n",
              "</table>\n",
              "</div>"
            ],
            "text/plain": [
              "            home_team  away_team  home_score  ...  tournament   neutral  outcomes\n",
              "home_team    1.002973  -0.001926   -0.009804  ...    0.043558  0.020654  0.011835\n",
              "away_team   -0.001926   1.005132    0.041199  ...    0.009672 -0.053973 -0.003861\n",
              "home_score  -0.009804   0.041199    1.363852  ...    0.014844 -0.004123 -0.685794\n",
              "away_score   0.025313  -0.012071    0.060000  ...   -0.031088 -0.112363  0.212581\n",
              "tournament   0.043558   0.009672    0.014844  ...    1.015577  0.115874 -0.003879\n",
              "neutral      0.020654  -0.053973   -0.004123  ...    0.115874  1.029060  0.012826\n",
              "outcomes     0.011835  -0.003861   -0.685794  ...   -0.003879  0.012826  1.401717\n",
              "\n",
              "[7 rows x 7 columns]"
            ]
          },
          "metadata": {},
          "execution_count": 48
        }
      ]
    },
    {
      "cell_type": "markdown",
      "metadata": {
        "id": "Gw16_N5YlBVv"
      },
      "source": [
        "**Train and Test data splitting**"
      ]
    },
    {
      "cell_type": "code",
      "metadata": {
        "id": "FPlZ2HScOJJv"
      },
      "source": [
        "x1=gamedf[['rank','tournament','home_score','away_score']].values\n",
        "y1=gamedf['outcomes'].values\n",
        "print(x1)"
      ],
      "execution_count": null,
      "outputs": []
    },
    {
      "cell_type": "code",
      "metadata": {
        "colab": {
          "base_uri": "https://localhost:8080/",
          "height": 418
        },
        "id": "ZjsKOkH8lW_R",
        "outputId": "1df49716-9614-4124-ee98-f43f12e4008b"
      },
      "source": [
        "x_train,x_test,y_train,y_test=train_test_split(x1,y1,test_size=0.2,random_state=25)\n",
        "r = LinearRegression()\n",
        "r.fit(x_train,y_train)\n",
        "y_p=r.predict(x_test)\n",
        "predicted=pd.DataFrame({'Actual':y_test, 'Predicted Scores':y_p})\n",
        "predicted"
      ],
      "execution_count": 50,
      "outputs": [
        {
          "output_type": "execute_result",
          "data": {
            "text/html": [
              "<div>\n",
              "<style scoped>\n",
              "    .dataframe tbody tr th:only-of-type {\n",
              "        vertical-align: middle;\n",
              "    }\n",
              "\n",
              "    .dataframe tbody tr th {\n",
              "        vertical-align: top;\n",
              "    }\n",
              "\n",
              "    .dataframe thead th {\n",
              "        text-align: right;\n",
              "    }\n",
              "</style>\n",
              "<table border=\"1\" class=\"dataframe\">\n",
              "  <thead>\n",
              "    <tr style=\"text-align: right;\">\n",
              "      <th></th>\n",
              "      <th>Actual</th>\n",
              "      <th>Predicted Scores</th>\n",
              "    </tr>\n",
              "  </thead>\n",
              "  <tbody>\n",
              "    <tr>\n",
              "      <th>0</th>\n",
              "      <td>0</td>\n",
              "      <td>1.121521</td>\n",
              "    </tr>\n",
              "    <tr>\n",
              "      <th>1</th>\n",
              "      <td>0</td>\n",
              "      <td>0.937471</td>\n",
              "    </tr>\n",
              "    <tr>\n",
              "      <th>2</th>\n",
              "      <td>0</td>\n",
              "      <td>0.944380</td>\n",
              "    </tr>\n",
              "    <tr>\n",
              "      <th>3</th>\n",
              "      <td>0</td>\n",
              "      <td>1.100561</td>\n",
              "    </tr>\n",
              "    <tr>\n",
              "      <th>4</th>\n",
              "      <td>0</td>\n",
              "      <td>1.115100</td>\n",
              "    </tr>\n",
              "    <tr>\n",
              "      <th>...</th>\n",
              "      <td>...</td>\n",
              "      <td>...</td>\n",
              "    </tr>\n",
              "    <tr>\n",
              "      <th>1036767</th>\n",
              "      <td>1</td>\n",
              "      <td>0.917477</td>\n",
              "    </tr>\n",
              "    <tr>\n",
              "      <th>1036768</th>\n",
              "      <td>2</td>\n",
              "      <td>2.023405</td>\n",
              "    </tr>\n",
              "    <tr>\n",
              "      <th>1036769</th>\n",
              "      <td>2</td>\n",
              "      <td>1.450098</td>\n",
              "    </tr>\n",
              "    <tr>\n",
              "      <th>1036770</th>\n",
              "      <td>2</td>\n",
              "      <td>2.385159</td>\n",
              "    </tr>\n",
              "    <tr>\n",
              "      <th>1036771</th>\n",
              "      <td>0</td>\n",
              "      <td>0.961219</td>\n",
              "    </tr>\n",
              "  </tbody>\n",
              "</table>\n",
              "<p>1036772 rows × 2 columns</p>\n",
              "</div>"
            ],
            "text/plain": [
              "         Actual  Predicted Scores\n",
              "0             0          1.121521\n",
              "1             0          0.937471\n",
              "2             0          0.944380\n",
              "3             0          1.100561\n",
              "4             0          1.115100\n",
              "...         ...               ...\n",
              "1036767       1          0.917477\n",
              "1036768       2          2.023405\n",
              "1036769       2          1.450098\n",
              "1036770       2          2.385159\n",
              "1036771       0          0.961219\n",
              "\n",
              "[1036772 rows x 2 columns]"
            ]
          },
          "metadata": {},
          "execution_count": 50
        }
      ]
    },
    {
      "cell_type": "code",
      "metadata": {
        "colab": {
          "base_uri": "https://localhost:8080/"
        },
        "id": "n2gbAGQeHoLr",
        "outputId": "c7bc1c0b-0502-479e-d035-29529803eef2"
      },
      "source": [
        "print('Mean Absolute Error:', metrics.mean_absolute_error(y_test, y_p))\n",
        "print('Mean Squared Error:', metrics.mean_squared_error(y_test, y_p))\n",
        "print('Root Mean Squared Error:', np.sqrt(metrics.mean_squared_error(y_test, y_p)))"
      ],
      "execution_count": 51,
      "outputs": [
        {
          "output_type": "stream",
          "name": "stdout",
          "text": [
            "Mean Absolute Error: 0.5679267713116667\n",
            "Mean Squared Error: 0.47272465919828255\n",
            "Root Mean Squared Error: 0.6875497503441351\n"
          ]
        }
      ]
    },
    {
      "cell_type": "code",
      "metadata": {
        "colab": {
          "base_uri": "https://localhost:8080/"
        },
        "id": "NOFEomr1CnfT",
        "outputId": "3266c6a7-6111-4d16-aec2-e2f98d3dc1c2"
      },
      "source": [
        "poly_reg = PolynomialFeatures(degree = 2) \n",
        "X_poly = poly_reg.fit_transform(x1)\n",
        "\n",
        "\n",
        "pol_reg = LinearRegression()\n",
        "pol_reg.fit(X_poly, y1)"
      ],
      "execution_count": 52,
      "outputs": [
        {
          "output_type": "execute_result",
          "data": {
            "text/plain": [
              "LinearRegression(copy_X=True, fit_intercept=True, n_jobs=None, normalize=False)"
            ]
          },
          "metadata": {},
          "execution_count": 52
        }
      ]
    },
    {
      "cell_type": "code",
      "metadata": {
        "colab": {
          "base_uri": "https://localhost:8080/",
          "height": 295
        },
        "id": "HUFZD-dxDZ1m",
        "outputId": "9f0194f9-0e8a-4ed0-bac7-8c3beaa866ee"
      },
      "source": [
        "plt.scatter(x_test, y_train, color='blue') \n",
        "#plt.plot(x1, pol_reg.predict(X_poly), color='red')\n",
        "plt.title('Scores Predictions (Polynomial Regression)')\n",
        "plt.xlabel('Rank')\n",
        "plt.ylabel('Scores')\n",
        "plt.show()"
      ],
      "execution_count": 54,
      "outputs": [
        {
          "output_type": "display_data",
          "data": {
            "image/png": "[encoded data removed]",
            "text/plain": [
              "<Figure size 432x288 with 1 Axes>"
            ]
          },
          "metadata": {
            "needs_background": "light"
          }
        }
      ]
    },
    {
      "cell_type": "markdown",
      "metadata": {
        "id": "nwcOm9baIMjW"
      },
      "source": [
        "### **Logistic Regressions**"
      ]
    },
    {
      "cell_type": "code",
      "metadata": {
        "id": "cQMq_PssIogL"
      },
      "source": [
        "#the VIF of the independent variables(x) have already been determine and is <5\n",
        "x=gamedf[['home_team','home_score']].values\n",
        "y=gamedf['outcomes'].values"
      ],
      "execution_count": 75,
      "outputs": []
    },
    {
      "cell_type": "code",
      "metadata": {
        "colab": {
          "base_uri": "https://localhost:8080/"
        },
        "id": "WjvCf7YLJVzf",
        "outputId": "a3b8f9bb-4132-4b6f-d0a5-9a2cb5b03624"
      },
      "source": [
        "#splitting to training and test sets\n",
        "xtrain,xtest,ytrain,ytest=train_test_split(x,y,test_size=0.3,random_state=0)\n",
        "#fitting the training sets to the regressor\n",
        "lr = LogisticRegression()\n",
        "lr.fit(xtrain, ytrain)"
      ],
      "execution_count": 76,
      "outputs": [
        {
          "output_type": "execute_result",
          "data": {
            "text/plain": [
              "LogisticRegression(C=1.0, class_weight=None, dual=False, fit_intercept=True,\n",
              "                   intercept_scaling=1, l1_ratio=None, max_iter=100,\n",
              "                   multi_class='auto', n_jobs=None, penalty='l2',\n",
              "                   random_state=None, solver='lbfgs', tol=0.0001, verbose=0,\n",
              "                   warm_start=False)"
            ]
          },
          "metadata": {},
          "execution_count": 76
        }
      ]
    },
    {
      "cell_type": "code",
      "metadata": {
        "colab": {
          "base_uri": "https://localhost:8080/",
          "height": 471
        },
        "id": "MgeMUslJLM7R",
        "outputId": "22d02726-735b-4464-91f8-fc33d7702105"
      },
      "source": [
        "y_predicted=lr.predict(xtest)\n",
        "from sklearn.metrics import confusion_matrix\n",
        "cm = confusion_matrix(ytest, y_predicted)\n",
        "print(cm)\n",
        "df2=pd.DataFrame({'Actual':ytest,'Predicted':y_predicted})\n",
        "df2"
      ],
      "execution_count": 77,
      "outputs": [
        {
          "output_type": "stream",
          "name": "stdout",
          "text": [
            "[[160613 140922  68581]\n",
            " [134960 258590  34695]\n",
            " [172941      0 583856]]\n"
          ]
        },
        {
          "output_type": "execute_result",
          "data": {
            "text/html": [
              "<div>\n",
              "<style scoped>\n",
              "    .dataframe tbody tr th:only-of-type {\n",
              "        vertical-align: middle;\n",
              "    }\n",
              "\n",
              "    .dataframe tbody tr th {\n",
              "        vertical-align: top;\n",
              "    }\n",
              "\n",
              "    .dataframe thead th {\n",
              "        text-align: right;\n",
              "    }\n",
              "</style>\n",
              "<table border=\"1\" class=\"dataframe\">\n",
              "  <thead>\n",
              "    <tr style=\"text-align: right;\">\n",
              "      <th></th>\n",
              "      <th>Actual</th>\n",
              "      <th>Predicted</th>\n",
              "    </tr>\n",
              "  </thead>\n",
              "  <tbody>\n",
              "    <tr>\n",
              "      <th>0</th>\n",
              "      <td>2</td>\n",
              "      <td>0</td>\n",
              "    </tr>\n",
              "    <tr>\n",
              "      <th>1</th>\n",
              "      <td>2</td>\n",
              "      <td>2</td>\n",
              "    </tr>\n",
              "    <tr>\n",
              "      <th>2</th>\n",
              "      <td>2</td>\n",
              "      <td>2</td>\n",
              "    </tr>\n",
              "    <tr>\n",
              "      <th>3</th>\n",
              "      <td>1</td>\n",
              "      <td>1</td>\n",
              "    </tr>\n",
              "    <tr>\n",
              "      <th>4</th>\n",
              "      <td>0</td>\n",
              "      <td>0</td>\n",
              "    </tr>\n",
              "    <tr>\n",
              "      <th>...</th>\n",
              "      <td>...</td>\n",
              "      <td>...</td>\n",
              "    </tr>\n",
              "    <tr>\n",
              "      <th>1555153</th>\n",
              "      <td>1</td>\n",
              "      <td>1</td>\n",
              "    </tr>\n",
              "    <tr>\n",
              "      <th>1555154</th>\n",
              "      <td>2</td>\n",
              "      <td>2</td>\n",
              "    </tr>\n",
              "    <tr>\n",
              "      <th>1555155</th>\n",
              "      <td>0</td>\n",
              "      <td>0</td>\n",
              "    </tr>\n",
              "    <tr>\n",
              "      <th>1555156</th>\n",
              "      <td>2</td>\n",
              "      <td>2</td>\n",
              "    </tr>\n",
              "    <tr>\n",
              "      <th>1555157</th>\n",
              "      <td>2</td>\n",
              "      <td>2</td>\n",
              "    </tr>\n",
              "  </tbody>\n",
              "</table>\n",
              "<p>1555158 rows × 2 columns</p>\n",
              "</div>"
            ],
            "text/plain": [
              "         Actual  Predicted\n",
              "0             2          0\n",
              "1             2          2\n",
              "2             2          2\n",
              "3             1          1\n",
              "4             0          0\n",
              "...         ...        ...\n",
              "1555153       1          1\n",
              "1555154       2          2\n",
              "1555155       0          0\n",
              "1555156       2          2\n",
              "1555157       2          2\n",
              "\n",
              "[1555158 rows x 2 columns]"
            ]
          },
          "metadata": {},
          "execution_count": 77
        }
      ]
    },
    {
      "cell_type": "code",
      "metadata": {
        "colab": {
          "base_uri": "https://localhost:8080/"
        },
        "id": "U0_w8bflLpZ7",
        "outputId": "5137be4f-2765-423e-85f9-c22a2ef8de0f"
      },
      "source": [
        "from sklearn.metrics import log_loss\n",
        "log_loss([0, 1,2],[[160613, 140922 , 68581],\n",
        " [134960, 258590,  34695],\n",
        " [172941,      0, 583856]])"
      ],
      "execution_count": 78,
      "outputs": [
        {
          "output_type": "execute_result",
          "data": {
            "text/plain": [
              "0.963457252632055"
            ]
          },
          "metadata": {},
          "execution_count": 78
        }
      ]
    },
    {
      "cell_type": "code",
      "metadata": {
        "id": "R5kUxd1YOgwv"
      },
      "source": [
        "#Precision, f1 and recall are used in logistic regression.\n",
        "#From a confusion matrix,\n",
        "#Accuracy = tp+tn/ tp+tn+fp+fn\n",
        "print('accuracy =1')\n",
        "#Precision is p\n",
        "#P= tp/tp+fp=tp/sum of predicted positive\n",
        "print('precision=1')\n",
        "#Recall is r\n",
        "#R= tp/tp+fn=tp/sum of actual positive\n",
        "print('recall=1' )\n",
        "\n"
      ],
      "execution_count": null,
      "outputs": []
    },
    {
      "cell_type": "markdown",
      "metadata": {
        "id": "lQ2G4ZPDVOXE"
      },
      "source": [
        "## 8. Conclusion"
      ]
    },
    {
      "cell_type": "markdown",
      "metadata": {
        "id": "2fb34oDBhUEc"
      },
      "source": [
        "With an RMSE: 0.6, polynominal regression is not the best in modeling data for this type of research since data is discreet as oppesed to continuous data. However the logistic model with a log loss of 0.9 shows that we may not have adequate data"
      ]
    }
  ]
}